{
 "cells": [
  {
   "cell_type": "markdown",
   "metadata": {},
   "source": [
    "    ─  ( 25/04/2024 )  ៸៸ ꜜ \n",
    "    → Faça um Programa que mostre a mensagem \"Seja Bem-Vindo ao SESI 😎\" na tela. ! ⌇"
   ]
  },
  {
   "cell_type": "code",
   "execution_count": 1,
   "metadata": {},
   "outputs": [
    {
     "name": "stdout",
     "output_type": "stream",
     "text": [
      "Seja Bem-Vindo ao SESI 😎\n"
     ]
    }
   ],
   "source": [
    "print ('Seja Bem-Vindo ao SESI 😎')"
   ]
  },
  {
   "cell_type": "markdown",
   "metadata": {},
   "source": [
    "    → Faça um Programa que peça um número e então mostre a mensagem “O número informado foi [número]”. ! ⌇"
   ]
  },
  {
   "cell_type": "code",
   "execution_count": 2,
   "metadata": {},
   "outputs": [
    {
     "name": "stdout",
     "output_type": "stream",
     "text": [
      "O número que você digitou foi: 5\n"
     ]
    }
   ],
   "source": [
    "numero = int (input('Digite um número para saber qual número você digitou'))\n",
    "\n",
    "print (f'O número que você digitou foi: {numero}')"
   ]
  },
  {
   "cell_type": "markdown",
   "metadata": {},
   "source": [
    "    → Faça um programa que receba 2 números inteiros e exiba a divisão entre eles ! ⌇"
   ]
  },
  {
   "cell_type": "code",
   "execution_count": 6,
   "metadata": {},
   "outputs": [
    {
     "name": "stdout",
     "output_type": "stream",
     "text": [
      "O resultado da divisão do número 5 pelo 6 é: 0.8333333333333334\n"
     ]
    }
   ],
   "source": [
    "numero1 = int (input('Digite o primeiro número'))\n",
    "numero2 = int (input('Digite o segundo número'))\n",
    "divisao = numero1 / numero2\n",
    "\n",
    "print (f'O resultado da divisão do número {numero1} pelo {numero2} é: {divisao}')"
   ]
  },
  {
   "cell_type": "markdown",
   "metadata": {},
   "source": [
    "    → Faça um Programa que pergunte quanto você ganha por hora e o número de horas trabalhadas no mês. Calcule e mostre o total do seu salário no referido mês. ! ⌇"
   ]
  },
  {
   "cell_type": "code",
   "execution_count": 9,
   "metadata": {},
   "outputs": [
    {
     "name": "stdout",
     "output_type": "stream",
     "text": [
      "O total do seu salário por mês é de R$4500\n"
     ]
    }
   ],
   "source": [
    "porhora = int (input ('Digite quanto em R$ você ganha por hora'))\n",
    "horatrab = int (input ('Digite quantas horas você trabalha por mês'))\n",
    "resultado = horatrab * porhora\n",
    "\n",
    "print (f'O total do seu salário por mês é de R${resultado}')"
   ]
  },
  {
   "cell_type": "markdown",
   "metadata": {},
   "source": [
    "    → Faça um Programa que verifique se uma letra digitada é \"F\" ou \"M\". Conforme a letra escrever: F - Feminino, M - Masculino, Sexo Inválido.  ! ⌇\n",
    "    "
   ]
  },
  {
   "cell_type": "code",
   "execution_count": 12,
   "metadata": {},
   "outputs": [
    {
     "name": "stdout",
     "output_type": "stream",
     "text": [
      "Sexo Inválido\n"
     ]
    }
   ],
   "source": [
    "genero = input (\"Qual o seu sexo? (F/M)\")\n",
    "\n",
    "if genero == 'F':\n",
    "    print ('F - Feminino')\n",
    "elif genero == 'M':\n",
    "    print ('M - Masculino')\n",
    "else :\n",
    "    print ('Sexo Inválido')"
   ]
  },
  {
   "cell_type": "markdown",
   "metadata": {},
   "source": [
    "    → Tendo como dado de entrada a altura (h) de uma pessoa e o sexo, construa um algoritmo que calcule seu peso ideal, utilizando as seguintes fórmulas:                                                                                                                                Para homens: (72.7 * altura) – 58 Para mulheres: (62.1 * altura) - 44.7  ! ⌇"
   ]
  },
  {
   "cell_type": "code",
   "execution_count": 16,
   "metadata": {},
   "outputs": [
    {
     "name": "stdout",
     "output_type": "stream",
     "text": [
      "Seu peso ideal é: 50.934KG\n"
     ]
    }
   ],
   "source": [
    "altura = float (input('Digite sua altura'))\n",
    "sexo = input (\"Digite seu sexo (F/M)\")\n",
    "homens = (72.7 * altura) - 58\n",
    "mulheres = (62.1 * altura) - 44.7\n",
    "\n",
    "if sexo == 'F':\n",
    "    print (f'Seu peso ideal é: {mulheres}KG')\n",
    "elif sexo == 'M':\n",
    "    print (f'Seu peso ideal é: {homens}KG')\n",
    "else: \n",
    "    print (f' O gênero digitado não é válido')\n"
   ]
  },
  {
   "cell_type": "markdown",
   "metadata": {},
   "source": [
    "    → Faça um Programa que pergunte quanto você ganha por hora e o número de horas trabalhadas no mês.                                    Calcule e mostre o total do seu salário no referido mês, sabendo-se que são descontados 11% para o Imposto de Renda, 8% para o INSS e 5% para o sindicato, faça um programa que nos dê: salário bruto. quanto pagou ao INSS. quanto pagou ao sindicato. o salário líquido. calcule os descontos e o salário líquido, conforme a tabela abaixo:                                                                                + Salário Bruto R$                                                                                                                          - IR (11%) : R$                                                                                                                            - INSS (8%) : R$                                                                                                                           - Sindicato ( 5%) : R$                                                                                                                     = Salário Liquido : R$                                                                                                                   Obs.: Salário Bruto - Descontos = Salário Líquido. ! ⌇"
   ]
  },
  {
   "cell_type": "code",
   "execution_count": 26,
   "metadata": {},
   "outputs": [
    {
     "name": "stdout",
     "output_type": "stream",
     "text": [
      "O seu salário bruto é de: R$6250\n",
      "O valor do seu imposto de renda é de: R$568.1818181818181\n",
      "O valor do seu INSS: R$781.25\n",
      "O valor que você paga ao sindicato é de: R$ 1250.0\n",
      "O seu salário líquido é de: R$3650.568181818182\n"
     ]
    }
   ],
   "source": [
    "porhora = int (input ('Digite quanto em R$ você ganha por hora'))\n",
    "horatrab = int (input ('Digite quantas horas você trabalha por mês'))\n",
    "salario = horatrab * porhora\n",
    "impostoderenda = (salario / 11) \n",
    "INSS = (salario / 8)\n",
    "sindicato = (salario / 5)\n",
    "salarioliquid = salario - (impostoderenda + INSS + sindicato)\n",
    "\n",
    "print (f'O seu salário bruto é de: R${salario}')\n",
    "print (f'O valor do seu imposto de renda é de: R${impostoderenda}')\n",
    "print (f'O valor do seu INSS: R${INSS}')\n",
    "print (f'O valor que você paga ao sindicato é de: R$ {sindicato}')\n",
    "print (f'O seu salário líquido é de: R${salarioliquid}')"
   ]
  },
  {
   "cell_type": "markdown",
   "metadata": {},
   "source": [
    "    → Faça uma função que peça um valor e mostre na tela se o valor é positivo ou negativo. ! ⌇"
   ]
  },
  {
   "cell_type": "code",
   "execution_count": 30,
   "metadata": {},
   "outputs": [
    {
     "name": "stdout",
     "output_type": "stream",
     "text": [
      "O número 5.0 é positivo\n"
     ]
    }
   ],
   "source": [
    "valor = float (input ('Digite um valor para saber se ele é negativo ou positivo'))\n",
    "if valor <= 0 :\n",
    "    print (f'O número {valor} é negativo')\n",
    "elif valor >= 0 :\n",
    "    print (f'O número {valor} é positivo')\n",
    "else:\n",
    "    print ('O caractere que você digitou não é válido')"
   ]
  },
  {
   "cell_type": "markdown",
   "metadata": {},
   "source": [
    "    → Faça uma função que imprima na tela apenas os números ímpares entre 1 e 50. ! ⌇"
   ]
  },
  {
   "cell_type": "code",
   "execution_count": 32,
   "metadata": {},
   "outputs": [
    {
     "name": "stdout",
     "output_type": "stream",
     "text": [
      " O número 1 é ímpar!\n",
      " O número 3 é ímpar!\n",
      " O número 5 é ímpar!\n",
      " O número 7 é ímpar!\n",
      " O número 9 é ímpar!\n",
      " O número 11 é ímpar!\n",
      " O número 13 é ímpar!\n",
      " O número 15 é ímpar!\n",
      " O número 17 é ímpar!\n",
      " O número 19 é ímpar!\n",
      " O número 21 é ímpar!\n",
      " O número 23 é ímpar!\n",
      " O número 25 é ímpar!\n",
      " O número 27 é ímpar!\n",
      " O número 29 é ímpar!\n",
      " O número 31 é ímpar!\n",
      " O número 33 é ímpar!\n",
      " O número 35 é ímpar!\n",
      " O número 37 é ímpar!\n",
      " O número 39 é ímpar!\n",
      " O número 41 é ímpar!\n",
      " O número 43 é ímpar!\n",
      " O número 45 é ímpar!\n",
      " O número 47 é ímpar!\n",
      " O número 49 é ímpar!\n"
     ]
    }
   ],
   "source": [
    "for x in range (1, 50) :\n",
    "    if x % 2 == 1 :\n",
    "        print (f' O número {x} é ímpar!')"
   ]
  },
  {
   "cell_type": "markdown",
   "metadata": {},
   "source": [
    "    → Faça uma função que receba dois números inteiros e gere os números inteiros que estão no intervalo compreendido por eles. ! ⌇"
   ]
  },
  {
   "cell_type": "code",
   "execution_count": 35,
   "metadata": {},
   "outputs": [
    {
     "name": "stdout",
     "output_type": "stream",
     "text": [
      "5\n",
      "6\n",
      "7\n",
      "8\n",
      "9\n"
     ]
    }
   ],
   "source": [
    "x1 = int (input ('Digite o primeiro número'))\n",
    "x2 = int (input ('Digite o segundo número'))\n",
    "\n",
    "for x in range (x1, x2) :\n",
    "        print (x)\n",
    "\n"
   ]
  },
  {
   "cell_type": "markdown",
   "metadata": {},
   "source": [
    "    → Faça uma função que peça um número positivo e em seguida mostre este número invertido. Exemplo: 12376489 => 98467321 ! ⌇ "
   ]
  },
  {
   "cell_type": "code",
   "execution_count": 40,
   "metadata": {},
   "outputs": [
    {
     "name": "stdout",
     "output_type": "stream",
     "text": [
      "779654\n"
     ]
    }
   ],
   "source": [
    "numero = input ('Digite um número positivo')\n",
    "numero_novo = ''\n",
    "\n",
    "for x in numero :\n",
    "    numero_novo = x + numero_novo\n",
    "\n",
    "print (numero_novo)\n"
   ]
  },
  {
   "cell_type": "markdown",
   "metadata": {},
   "source": [
    "    → Faça um Programa que leia um vetor A com 5 números inteiros, calcule e mostre a soma dos quadrados dos elementos do vetor. ! ⌇"
   ]
  },
  {
   "cell_type": "code",
   "execution_count": 85,
   "metadata": {},
   "outputs": [
    {
     "name": "stdout",
     "output_type": "stream",
     "text": [
      "60\n"
     ]
    }
   ],
   "source": [
    "\n",
    "\n",
    "def numero(n1,n2,n3,n4,n5):\n",
    "    res = (n1 *2) + (n2 *2)+ (n3 *2) +(n4 *2) +(n5 *2)\n",
    "    print (res)\n",
    "\n",
    "numero(5,8,9,6,2)"
   ]
  },
  {
   "cell_type": "markdown",
   "metadata": {},
   "source": [
    "    → Faça um Programa que leia 8 números inteiros e armazene-os num vetor. Armazene os números pares no vetor PAR e os números IMPARES no vetor impar. Imprima os três vetores. ! ⌇ "
   ]
  },
  {
   "cell_type": "code",
   "execution_count": 94,
   "metadata": {},
   "outputs": [
    {
     "name": "stdout",
     "output_type": "stream",
     "text": [
      "Números digitados: [5, 69, 58, 2, 2, 5, 52, 2]\n",
      "Os números pares são: [58, 2, 2, 52, 2]\n",
      "Os número ímpares são: [5, 69, 5]\n"
     ]
    }
   ],
   "source": [
    "numeros = []\n",
    "pares = []\n",
    "impar = []\n",
    "for x in range(8):\n",
    "    numero = int(input('Digite um número inteiro'))\n",
    "    numeros.append(numero)\n",
    "    if (numero % 2) == 0:\n",
    "        pares.append(numero)\n",
    "    elif (numero %2) > 0:\n",
    "        impar.append(numero)\n",
    "print (f'Números digitados: {numeros}')\n",
    "print (f'Os números pares são: {pares}')\n",
    "print (f'Os número ímpares são: {impar}')\n"
   ]
  },
  {
   "cell_type": "markdown",
   "metadata": {},
   "source": [
    "    14 - Numa eleição existem três candidatos. Faça um programa que peça o número total de eleitores. Peça para cada eleitor votar e ao final mostrar o número de votos de cada candidato."
   ]
  },
  {
   "cell_type": "code",
   "execution_count": 96,
   "metadata": {},
   "outputs": [
    {
     "name": "stdout",
     "output_type": "stream",
     "text": [
      " A quantidade de pessoas que votaram no primeiro candidato é de: 4\n",
      " A quantidade de pessoas que votaram no segundo candidato é de: 3\n",
      " A quantidade de pessoas que votaram no terceiro candidato é de: 2\n"
     ]
    }
   ],
   "source": [
    "total_eleitores = int (input ('Digite o número total de eleitores'))\n",
    "candidato1 = 0\n",
    "candidato2 = 0\n",
    "candidato3 = 0\n",
    "\n",
    "for x in range(1,total_eleitores):\n",
    "    res = input ('Para votar, coloque: Candidato 1 [1] - Candidato 2 [2] - Candidato 3 [3]')\n",
    "    if res == '1' :\n",
    "        candidato1 = candidato1 + 1\n",
    "    elif res == '2' :\n",
    "        candidato2 = candidato2 + 1\n",
    "    else:\n",
    "        candidato3 = candidato3 + 1\n",
    "\n",
    "print (f' A quantidade de pessoas que votaram no primeiro candidato é de: {candidato1}')\n",
    "print (f' A quantidade de pessoas que votaram no segundo candidato é de: {candidato2}')\n",
    "print (f' A quantidade de pessoas que votaram no terceiro candidato é de: {candidato3}')"
   ]
  },
  {
   "cell_type": "markdown",
   "metadata": {},
   "source": [
    "    15 - Faça um Programa que em uma função receba 4 notas bimestrais e mostre a média."
   ]
  },
  {
   "cell_type": "code",
   "execution_count": 58,
   "metadata": {},
   "outputs": [
    {
     "name": "stdout",
     "output_type": "stream",
     "text": [
      "9.0\n"
     ]
    }
   ],
   "source": [
    "def notas(n1, n2,n3,n4):\n",
    "     media = (n1 + n2 + n3 + n4) / 4\n",
    "     print (media)\n",
    "\n",
    "notas(10,9,8,9)\n"
   ]
  },
  {
   "cell_type": "markdown",
   "metadata": {},
   "source": [
    "    16. Faça um Programa que em uma função receba uma medida em metros e converta retorne o valor convertido para centímetros."
   ]
  },
  {
   "cell_type": "code",
   "execution_count": 62,
   "metadata": {},
   "outputs": [
    {
     "name": "stdout",
     "output_type": "stream",
     "text": [
      "O valor em centímetros é:  5000.00\n"
     ]
    }
   ],
   "source": [
    "def metros(m) :\n",
    "    cm = m * 100\n",
    "    print (f'O valor em centímetros é: {cm: .2f}')\n",
    "\n",
    "metros(50)"
   ]
  },
  {
   "cell_type": "markdown",
   "metadata": {},
   "source": [
    "    17. Faça um programa que receba a temperatura média de cada mês do ano e armazene-as em uma lista. Após isto, calcule a média anual das temperaturas e mostre todas as temperaturas acima da média anual, e em que mês elas ocorreram (mostrar o mês por extenso: 1 – Janeiro, 2 – Fevereiro, . . . )."
   ]
  },
  {
   "cell_type": "code",
   "execution_count": 5,
   "metadata": {},
   "outputs": [
    {
     "name": "stdout",
     "output_type": "stream",
     "text": [
      "1 - Janeiro 5º \n",
      "2 - Fevereiro 5º \n",
      "3 - Março 5º \n",
      "4 - Abril 5º \n",
      "5 - Maio 5º \n",
      "6 - Junho 5º \n",
      "7 - Julho 5º \n",
      "8 - Agosto 5º \n",
      "9 - Setembro 5º \n",
      "10 - Outubro 5º \n",
      "11 - Novembro 5º \n",
      "12 - Dezembro 5º \n",
      "2 - Janeiro 5º \n",
      "3 - Fevereiro 5º \n",
      "4 - Março 5º \n",
      "5 - Abril 5º \n",
      "6 - Maio 5º \n",
      "7 - Junho 5º \n",
      "8 - Julho 5º \n",
      "9 - Agosto 5º \n",
      "10 - Setembro 5º \n",
      "11 - Outubro 5º \n",
      "12 - Novembro 5º \n",
      "13 - Dezembro 5º \n",
      "3 - Janeiro 5º \n",
      "4 - Fevereiro 5º \n",
      "5 - Março 5º \n",
      "6 - Abril 5º \n",
      "7 - Maio 5º \n",
      "8 - Junho 5º \n",
      "9 - Julho 5º \n",
      "10 - Agosto 5º \n",
      "11 - Setembro 5º \n",
      "12 - Outubro 5º \n",
      "13 - Novembro 5º \n",
      "14 - Dezembro 5º \n",
      "4 - Janeiro 5º \n",
      "5 - Fevereiro 5º \n",
      "6 - Março 5º \n",
      "7 - Abril 5º \n",
      "8 - Maio 5º \n",
      "9 - Junho 5º \n",
      "10 - Julho 5º \n",
      "11 - Agosto 5º \n",
      "12 - Setembro 5º \n",
      "13 - Outubro 5º \n",
      "14 - Novembro 5º \n",
      "15 - Dezembro 5º \n",
      "5 - Janeiro 5º \n",
      "6 - Fevereiro 5º \n",
      "7 - Março 5º \n",
      "8 - Abril 5º \n",
      "9 - Maio 5º \n",
      "10 - Junho 5º \n",
      "11 - Julho 5º \n",
      "12 - Agosto 5º \n",
      "13 - Setembro 5º \n",
      "14 - Outubro 5º \n",
      "15 - Novembro 5º \n",
      "16 - Dezembro 5º \n",
      "6 - Janeiro 5º \n",
      "7 - Fevereiro 5º \n",
      "8 - Março 5º \n",
      "9 - Abril 5º \n",
      "10 - Maio 5º \n",
      "11 - Junho 5º \n",
      "12 - Julho 5º \n",
      "13 - Agosto 5º \n",
      "14 - Setembro 5º \n",
      "15 - Outubro 5º \n",
      "16 - Novembro 5º \n",
      "17 - Dezembro 5º \n",
      "7 - Janeiro 5º \n",
      "8 - Fevereiro 5º \n",
      "9 - Março 5º \n",
      "10 - Abril 5º \n",
      "11 - Maio 5º \n",
      "12 - Junho 5º \n",
      "13 - Julho 5º \n",
      "14 - Agosto 5º \n",
      "15 - Setembro 5º \n",
      "16 - Outubro 5º \n",
      "17 - Novembro 5º \n",
      "18 - Dezembro 5º \n",
      "8 - Janeiro 5º \n",
      "9 - Fevereiro 5º \n",
      "10 - Março 5º \n",
      "11 - Abril 5º \n",
      "12 - Maio 5º \n",
      "13 - Junho 5º \n",
      "14 - Julho 5º \n",
      "15 - Agosto 5º \n",
      "16 - Setembro 5º \n",
      "17 - Outubro 5º \n",
      "18 - Novembro 5º \n",
      "19 - Dezembro 5º \n",
      "9 - Janeiro 5º \n",
      "10 - Fevereiro 5º \n",
      "11 - Março 5º \n",
      "12 - Abril 5º \n",
      "13 - Maio 5º \n",
      "14 - Junho 5º \n",
      "15 - Julho 5º \n",
      "16 - Agosto 5º \n",
      "17 - Setembro 5º \n",
      "18 - Outubro 5º \n",
      "19 - Novembro 5º \n",
      "20 - Dezembro 5º \n",
      "10 - Janeiro 5º \n",
      "11 - Fevereiro 5º \n",
      "12 - Março 5º \n",
      "13 - Abril 5º \n",
      "14 - Maio 5º \n",
      "15 - Junho 5º \n",
      "16 - Julho 5º \n",
      "17 - Agosto 5º \n",
      "18 - Setembro 5º \n",
      "19 - Outubro 5º \n",
      "20 - Novembro 5º \n",
      "21 - Dezembro 5º \n",
      "11 - Janeiro 5º \n",
      "12 - Fevereiro 5º \n",
      "13 - Março 5º \n",
      "14 - Abril 5º \n",
      "15 - Maio 5º \n",
      "16 - Junho 5º \n",
      "17 - Julho 5º \n",
      "18 - Agosto 5º \n",
      "19 - Setembro 5º \n",
      "20 - Outubro 5º \n",
      "21 - Novembro 5º \n",
      "22 - Dezembro 5º \n",
      "12 - Janeiro 5º \n",
      "13 - Fevereiro 5º \n",
      "14 - Março 5º \n",
      "15 - Abril 5º \n",
      "16 - Maio 5º \n",
      "17 - Junho 5º \n",
      "18 - Julho 5º \n",
      "19 - Agosto 5º \n",
      "20 - Setembro 5º \n",
      "21 - Outubro 5º \n",
      "22 - Novembro 5º \n",
      "23 - Dezembro 5º \n"
     ]
    }
   ],
   "source": [
    "lista = []\n",
    "\n",
    "for temp in range(12):\n",
    "    temp = input ('Digite a temperatura')\n",
    "    lista.append(temp)\n",
    "\n",
    "\n",
    "for pos, temp in enumerate(lista):\n",
    "    print (f'{pos+1} - Janeiro {temp}º ')\n",
    "    print (f'{pos+2} - Fevereiro {temp}º ')\n",
    "    print (f'{pos+3} - Março {temp}º ')\n",
    "    print (f'{pos+4} - Abril {temp}º ')\n",
    "    print (f'{pos+5} - Maio {temp}º ')\n",
    "    print (f'{pos+6} - Junho {temp}º ')\n",
    "    print (f'{pos+7} - Julho {temp}º ')\n",
    "    print (f'{pos+8} - Agosto {temp}º ')\n",
    "    print (f'{pos+9} - Setembro {temp}º ')\n",
    "    print (f'{pos+10} - Outubro {temp}º ')\n",
    "    print (f'{pos+11} - Novembro {temp}º ')\n",
    "    print (f'{pos+12} - Dezembro {temp}º ')\n",
    "\n"
   ]
  },
  {
   "cell_type": "code",
   "execution_count": null,
   "metadata": {},
   "outputs": [],
   "source": [
    "for temp in range(12):\n",
    "    temp = input ('Digite a temperatura')\n",
    "    lista.append(temp)\n",
    "    "
   ]
  }
 ],
 "metadata": {
  "kernelspec": {
   "display_name": "Python 3",
   "language": "python",
   "name": "python3"
  },
  "language_info": {
   "codemirror_mode": {
    "name": "ipython",
    "version": 3
   },
   "file_extension": ".py",
   "mimetype": "text/x-python",
   "name": "python",
   "nbconvert_exporter": "python",
   "pygments_lexer": "ipython3",
   "version": "3.12.3"
  }
 },
 "nbformat": 4,
 "nbformat_minor": 2
}
