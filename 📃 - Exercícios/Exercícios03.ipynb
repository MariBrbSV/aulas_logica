{
 "cells": [
  {
   "cell_type": "markdown",
   "metadata": {},
   "source": [
    "🎀 - Exercícios do dia 07/03/2024"
   ]
  },
  {
   "cell_type": "markdown",
   "metadata": {},
   "source": [
    "1. Pede ao usuário para digitar um número de 1 a 7 e imprime o dia da semana correspondente."
   ]
  },
  {
   "cell_type": "code",
   "execution_count": 9,
   "metadata": {},
   "outputs": [
    {
     "name": "stdout",
     "output_type": "stream",
     "text": [
      " O dia da semana correspondente é 📅 Sexta ! 📅\n"
     ]
    }
   ],
   "source": [
    "# 🎀 Variáveis\n",
    "nmr = input (\"Digite um número de 1 a 7\")\n",
    "\n",
    "match nmr :\n",
    "    case \"1\" :\n",
    "        print (f' O dia da semana correspondente é 📅 Segunda ! 📅')\n",
    "    case \"2\" :\n",
    "        print (f' O dia da semana correspondente é 📅 Terça ! 📅')\n",
    "    case \"3\" :\n",
    "        print (f' O dia da semana correspondente é 📅 Quarta ! 📅')\n",
    "    case \"4\" :\n",
    "        print (f' O dia da semana correspondente é 📅 Quinta ! 📅')\n",
    "    case \"5\" :\n",
    "        print (f' O dia da semana correspondente é 📅 Sexta ! 📅')\n",
    "    case \"6\" :\n",
    "        print (f' O dia da semana correspondente é 📅 Sábado ! 📅')\n",
    "    case \"7\" :\n",
    "        print (f' O dia da semana correspondente é 📅 Domingo ! 📅')\n",
    "    case _ :\n",
    "        print (\"Número inválido\")"
   ]
  },
  {
   "cell_type": "markdown",
   "metadata": {},
   "source": [
    "2. Pede ao usuário o ano atual e o ano de nascimento e verifique em qual faixa etária ele pertence considerando (abaixo de 10 é criança, de 11 a 17 adolescente, de 18 a 59 adulto, acima de 60 idoso)"
   ]
  },
  {
   "cell_type": "code",
   "execution_count": 11,
   "metadata": {},
   "outputs": [
    {
     "name": "stdout",
     "output_type": "stream",
     "text": [
      "Você tem 59 anos e sua faixa etária é: 🙍‍♀️ Adulto!\n"
     ]
    }
   ],
   "source": [
    "# 🎀 Variáveis\n",
    "anoatual = int (input (\"Digite o ano atual:\"))\n",
    "nascimento = int (input (\"Digite o ano de nascimento:\"))\n",
    "ano = anoatual - nascimento\n",
    "\n",
    "if ano <=10 :\n",
    "    print (f'Você tem {ano} anos e sua faixa etária é: 👧 Criança!')\n",
    "\n",
    "else :\n",
    "    if ano >= 11 and ano <= 17 :\n",
    "        print (f'Você tem {ano} anos e sua faixa etária é: 👩 Adolescente!')\n",
    "    else:\n",
    "        if ano >= 18 and ano <= 59 :\n",
    "                print (f'Você tem {ano} anos e sua faixa etária é: 🙍‍♀️ Adulto!')\n",
    "        else:\n",
    "             if ano >= 60 :\n",
    "                  print (f'Você tem {ano} anos e sua faixa etária é: 👩‍🦳 Idoso!')\n"
   ]
  },
  {
   "cell_type": "markdown",
   "metadata": {},
   "source": [
    "3. Pede ao usuário para digitar o nome de um mês e imprime o número de dias naquele mês."
   ]
  },
  {
   "cell_type": "code",
   "execution_count": 11,
   "metadata": {},
   "outputs": [
    {
     "name": "stdout",
     "output_type": "stream",
     "text": [
      "O mês de fevereiro tem 28 dias\n"
     ]
    }
   ],
   "source": [
    "mes = input (\"Digite o nome de um mês:\")\n",
    "\n",
    "match mes :\n",
    "    case \"janeiro\" :\n",
    "        print (f\"O mês de {mes} tem 31 dias\")\n",
    "    case \"fevereiro\" :\n",
    "        print (f'O mês de {mes} tem 28 dias')\n",
    "    case \"março\" :\n",
    "        print (f'O mês de {mes} tem 31 dias')\n",
    "    case \"abril\" :\n",
    "        print (f'O mês de {mes} tem 30 dias')\n",
    "    case \"maio\" :\n",
    "        print (f'O mês de {mes} tem 31 dias')\n",
    "    case \"junho\" :\n",
    "        print (f'O mês de {mes} tem 30 dias')\n",
    "    case \"julho\" :\n",
    "        print (f'O mês de {mes} tem 31 dias')\n",
    "    case \"agosto\" :\n",
    "        print (f'O mês de {mes} tem 31 dias')\n",
    "    case \"setembro\" :\n",
    "        print (f'O mês de {mes} tem 30 dias')\n",
    "    case \"outubro\" :\n",
    "        print (f'O mês de {mes} tem 31 dias')\n",
    "    case \"novembro\" :\n",
    "        print (f'O mês de {mes} tem 30 dias')\n",
    "    case \"dezembro\" :\n",
    "        print (f'O mês de {mes} tem 31 dias')\n",
    "    case _ :\n",
    "        print (\"O mês informado é inválido\")"
   ]
  },
  {
   "cell_type": "markdown",
   "metadata": {},
   "source": [
    "4. Pede ao usuário para digitar 2 notas e calcule sua média, e considere a média acima de 7 aprovado, entre 5 e 7, em recuperação, abaixo de 5 reprovado."
   ]
  },
  {
   "cell_type": "code",
   "execution_count": 28,
   "metadata": {},
   "outputs": [
    {
     "name": "stdout",
     "output_type": "stream",
     "text": [
      "Sua média é 1.0 e você está: ❌ Reprovado!\n"
     ]
    }
   ],
   "source": [
    "nota1 = int (input (\"Digite a primeira nota\"))\n",
    "nota2 = int (input (\"Digite a segunda nota\"))\n",
    "media = ((nota1 + nota2) / 2)\n",
    "\n",
    "if media >= 7 :\n",
    "    print (f'Sua média é {media} e você está: ✅ Aprovado!')\n",
    "\n",
    "else :\n",
    "    if media == '5' or media == '6' :\n",
    "        print (f'Sua média é {media} e você está: ⚠ Em recuperação!')\n",
    "    else :\n",
    "        if media <=4 :\n",
    "            print (f'Sua média é {media} e você está: ❌ Reprovado!')"
   ]
  },
  {
   "cell_type": "markdown",
   "metadata": {},
   "source": [
    "5. Pede o salário do funcionário, e calcular o aumento que ele terá, considerando se ganhar até 2000, reajuste de 12%, até 4000, reajuste de 10%, acima de 4000 reajuste de 8%, exibir o novo salário"
   ]
  },
  {
   "cell_type": "code",
   "execution_count": 6,
   "metadata": {},
   "outputs": [
    {
     "name": "stdout",
     "output_type": "stream",
     "text": [
      "Seu salário é 4500 e o seu novo salário é de: 💲 4860.0\n"
     ]
    }
   ],
   "source": [
    "salario = int (input (\"Digite o valor do salário:\"))\n",
    "r12 = ((salario  * 12 / 100) + salario)\n",
    "r10 = ((salario  * 10 / 100) + salario)\n",
    "r8 = ((salario  * 8 / 100) + salario)\n",
    "\n",
    "if salario <=2000 :\n",
    "    print(f'Seu salário é {salario} e o seu novo salário é de: 💲 {r12}' )\n",
    "           \n",
    "else :\n",
    "    if salario <= 4000 :\n",
    "        print (f'Seu salário é {salario} e o seu novo salário é de: 💲 {r10}')\n",
    "    else : \n",
    "         print (f'Seu salário é {salario} e o seu novo salário é de: 💲 {r8}')"
   ]
  }
 ],
 "metadata": {
  "kernelspec": {
   "display_name": "Python 3",
   "language": "python",
   "name": "python3"
  },
  "language_info": {
   "codemirror_mode": {
    "name": "ipython",
    "version": 3
   },
   "file_extension": ".py",
   "mimetype": "text/x-python",
   "name": "python",
   "nbconvert_exporter": "python",
   "pygments_lexer": "ipython3",
   "version": "3.12.2"
  }
 },
 "nbformat": 4,
 "nbformat_minor": 2
}
