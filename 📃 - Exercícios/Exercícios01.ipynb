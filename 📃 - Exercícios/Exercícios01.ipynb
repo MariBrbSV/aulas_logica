{
 "cells": [
  {
   "cell_type": "markdown",
   "metadata": {},
   "source": [
    "📕📚⏰ Aula 23/02 - Sexta-feira \n",
    "                                                  \n",
    "💻🖱⌨📱🔌: Operações com variáveis\n",
    "                                                                                                                                           \n",
    "• • • • • • • • • • • • • • • • • • • • • • • • • • • • • • ~ ʚĭɞ ~ • • • • • • • • • • • • • • • • • • • • • • • • • • • • • •"
   ]
  },
  {
   "cell_type": "markdown",
   "metadata": {},
   "source": [
    "00 - Faça um programa que leia algo pelo teclado e mostre na tela o seu tipo primitivo."
   ]
  },
  {
   "cell_type": "code",
   "execution_count": 3,
   "metadata": {},
   "outputs": [
    {
     "name": "stdout",
     "output_type": "stream",
     "text": [
      "aaaaa\n",
      "<class 'str'>\n"
     ]
    }
   ],
   "source": [
    "# Digitar o texto no teclado \n",
    "\n",
    "texto =  input (\"Digite o texto\")\n",
    "\n",
    "# Exibir na tela\n",
    "\n",
    "print (texto)\n",
    "print (type(texto))"
   ]
  },
  {
   "cell_type": "markdown",
   "metadata": {},
   "source": [
    "01 - Crie um programa que leia dois números e mostre a soma entre eles."
   ]
  },
  {
   "cell_type": "code",
   "execution_count": 5,
   "metadata": {},
   "outputs": [
    {
     "name": "stdout",
     "output_type": "stream",
     "text": [
      "22.5\n"
     ]
    }
   ],
   "source": [
    "# Solicitar o primeiro número\n",
    "\n",
    "numero1 = float (input (\"Escolha o primeiro número\"))\n",
    "\n",
    "# Solicitar o segundo número\n",
    "\n",
    "numero2 = float (input (\"Escolha o segundo número\"))\n",
    "\n",
    "# Mostrar a soma deles\n",
    "\n",
    "print (numero1 + numero2)"
   ]
  },
  {
   "cell_type": "markdown",
   "metadata": {},
   "source": [
    "02 - Crie um programa que leia um número inteiro e mostre na tela o seu sucessor e antecessor."
   ]
  },
  {
   "cell_type": "code",
   "execution_count": 11,
   "metadata": {},
   "outputs": [
    {
     "name": "stdout",
     "output_type": "stream",
     "text": [
      "O sucessor do número 5.0 é 6.0 e o seu antecessor é 4.0!\n"
     ]
    }
   ],
   "source": [
    "# Solitar um número para o usuário\n",
    "\n",
    "numero = float (input (\"Digite um número\"))\n",
    "\n",
    "# Calcula o sucessor do número \n",
    "\n",
    "sucessor = (numero + 1)\n",
    "\n",
    "# Calcula o antecessor do número \n",
    "\n",
    "antecessor = (numero - 1)\n",
    "\n",
    "# Exibir o resultado\n",
    "\n",
    "print (f'O sucessor do número {numero} é {sucessor} e o seu antecessor é {antecessor}!')"
   ]
  },
  {
   "cell_type": "markdown",
   "metadata": {},
   "source": [
    "03 - Crie um programa que leia um número e mostre o seu dobro, triplo e raiz quadrada."
   ]
  },
  {
   "cell_type": "code",
   "execution_count": 7,
   "metadata": {},
   "outputs": [
    {
     "name": "stdout",
     "output_type": "stream",
     "text": [
      "O dobro do número 20.87 é: 41.74, O triplo é 62.61 e a raiz quadrada é 4.568369512200168. \n"
     ]
    }
   ],
   "source": [
    "# Solicitar um número para o usuário \n",
    "\n",
    "numero = float (input (\"Digite um número\"))\n",
    "\n",
    "# Calcula o dobro\n",
    "\n",
    "dobro = (numero * 2)\n",
    "\n",
    "# Calcula o triplo\n",
    "\n",
    "triplo = (numero * 3)\n",
    "\n",
    "# Calcula a raiz quadrada\n",
    "\n",
    "raiz_quadrada = (numero ** 0.5)\n",
    "\n",
    "# Exibir resultado\n",
    "\n",
    "print (f'O dobro do número {numero} é: {dobro}, O triplo é {triplo} e a raiz quadrada é {raiz_quadrada}. ')"
   ]
  },
  {
   "cell_type": "markdown",
   "metadata": {},
   "source": [
    "04 - Crie um programa que leia duas notas de um aluno, calcule e mostre sua média."
   ]
  },
  {
   "cell_type": "code",
   "execution_count": 19,
   "metadata": {},
   "outputs": [
    {
     "name": "stdout",
     "output_type": "stream",
     "text": [
      "10.0\n"
     ]
    }
   ],
   "source": [
    "# Digite a primeira nota\n",
    "\n",
    "nota1 = float (input (\"Digite a primeira nota\"))\n",
    "\n",
    "# Digite a segunda nota\n",
    "\n",
    "nota2 = float (input (\"Digite a segunda nota\"))\n",
    "\n",
    "# Exibir junto com o cálculo\n",
    "\n",
    "print ((nota1 + nota2) / 2) "
   ]
  },
  {
   "cell_type": "markdown",
   "metadata": {},
   "source": [
    "05 - Crie um programa que leia o valor em metros e o exiba convertido em centímetros e milímetros."
   ]
  },
  {
   "cell_type": "code",
   "execution_count": 5,
   "metadata": {},
   "outputs": [
    {
     "name": "stdout",
     "output_type": "stream",
     "text": [
      "O seu resultado de metros para centímetros é: 5000.0\n",
      "O seu resultado de metros para milímetros é: 50000.0\n"
     ]
    }
   ],
   "source": [
    "# Digitar o valor em metros\n",
    "\n",
    "metros = float (input (\"Digite o valor em metros\"))\n",
    "\n",
    "# Converter em centímetros\n",
    "\n",
    "centimetros = (metros * 100)\n",
    "\n",
    "# Converter em milímetros\n",
    "\n",
    "milimetros = (metros * 1000)\n",
    "\n",
    "# Exibir resultado \n",
    "\n",
    "print (f'O seu resultado de metros para centímetros é: {centimetros}')\n",
    "print (f'O seu resultado de metros para milímetros é: {milimetros}')"
   ]
  },
  {
   "cell_type": "markdown",
   "metadata": {},
   "source": [
    "06 - Crie um programa que leia um numero qualquer e mostre na tela a sua tabuada."
   ]
  },
  {
   "cell_type": "code",
   "execution_count": 18,
   "metadata": {},
   "outputs": [
    {
     "name": "stdout",
     "output_type": "stream",
     "text": [
      "A tabuada do número 2.0 é:\n",
      "2.0 X 1 = 2.0\n",
      "2.0 X 2 = 4.0\n",
      "2.0 X 3 = 6.0\n",
      "2.0 X 4 = 8.0\n",
      "2.0 X 5 = 10.0\n",
      "2.0 X 6 = 12.0\n",
      "2.0 X 7 = 14.0\n",
      "2.0 X 8 = 16.0\n",
      "2.0 X 9 = 18.0\n",
      "2.0 X 10 = 20.0\n"
     ]
    }
   ],
   "source": [
    "# Digite o número\n",
    "\n",
    "numero = float (input (\"Digite um número para calcular a tabuada\"))\n",
    "\n",
    "# Digitar tabuada desse número\n",
    "\n",
    "\n",
    "print (f'A tabuada do número {numero} é:')\n",
    "print (f'{numero} X 1 = {(numero * 1)}')\n",
    "print (f'{numero} X 2 = {(numero * 2)}')\n",
    "print (f'{numero} X 3 = {(numero * 3)}')\n",
    "print (f'{numero} X 4 = {(numero * 4)}')\n",
    "print (f'{numero} X 5 = {(numero * 5)}')\n",
    "print (f'{numero} X 6 = {(numero * 6)}')\n",
    "print (f'{numero} X 7 = {(numero * 7)}')\n",
    "print (f'{numero} X 8 = {(numero * 8)}')\n",
    "print (f'{numero} X 9 = {(numero * 9)}')\n",
    "print (f'{numero} X 10 = {(numero * 10)}')\n",
    "\n",
    "\n"
   ]
  },
  {
   "cell_type": "markdown",
   "metadata": {},
   "source": [
    "07 - Crie um programa que leia quanto dinheiro a pessoa tem na carteira e mostre quantos dólares ela pode contar."
   ]
  },
  {
   "cell_type": "code",
   "execution_count": 1,
   "metadata": {},
   "outputs": [
    {
     "name": "stdout",
     "output_type": "stream",
     "text": [
      "8.0\n"
     ]
    }
   ],
   "source": [
    "# Digite quanto a pessoa tem na carteira \n",
    "\n",
    "valor = float (input (\"Quanto você tem na sua carteira? (Digite em R$)\"))\n",
    "\n",
    "# Exibir resultado junto com a soma\n",
    "\n",
    "print (valor / 5)\n"
   ]
  },
  {
   "cell_type": "markdown",
   "metadata": {},
   "source": [
    "08 - Crie um programa que leia a largura e a altura de uma parede em metros, calcule a sua área e a quantidade de tinta necessária para pintá-lo, sabendo que cada litro de tinta pinta uma área de 2m2."
   ]
  },
  {
   "cell_type": "code",
   "execution_count": 7,
   "metadata": {},
   "outputs": [
    {
     "name": "stdout",
     "output_type": "stream",
     "text": [
      "A área da parede é de 120 metros e a quantidade necessária de tinta para pintar é de 60.0.\n"
     ]
    }
   ],
   "source": [
    "# Largura\n",
    "\n",
    "largura = float (input (\"Qual a largura da parede?\"))\n",
    "\n",
    "# Altura\n",
    "\n",
    "altura = float (input (\"Qual a altura da parede?\"))\n",
    "\n",
    "#Área\n",
    "\n",
    "area = (largura * altura)\n",
    "\n",
    "# litro\n",
    "\n",
    "litro = (area / 2)\n",
    "\n",
    "# Exibir resultado\n",
    "\n",
    "print (f'A área da parede é de {area} metros e a quantidade necessária de tinta para pintar é de {litro}.')"
   ]
  },
  {
   "cell_type": "markdown",
   "metadata": {},
   "source": [
    "09 - Faça um algoritmo que leia o preço do produto e mostre seu novo preço com 5% de desconto."
   ]
  },
  {
   "cell_type": "code",
   "execution_count": 15,
   "metadata": {},
   "outputs": [
    {
     "name": "stdout",
     "output_type": "stream",
     "text": [
      "O preço do produto com desconto é de R$95.0, e o preço do produto normal é de 100.\n"
     ]
    }
   ],
   "source": [
    "# Colocar o preço do produto\n",
    "\n",
    "preco = float (input (\"Qual é o preço do produto?\"))\n",
    "\n",
    "# Com desconto \n",
    "\n",
    "desconto = (preco * 5 / 100)\n",
    "\n",
    "final = (preco - desconto)\n",
    "\n",
    "# Exibir resultado\n",
    "\n",
    "print (f'O preço do produto com desconto é de R${final}, e o preço do produto normal é de {preco}.')"
   ]
  },
  {
   "cell_type": "markdown",
   "metadata": {},
   "source": [
    "10 - Faça um algoritmo que leia o salário do funcionário e mostre seu novo salário com 15% de aumento."
   ]
  },
  {
   "cell_type": "code",
   "execution_count": 19,
   "metadata": {},
   "outputs": [
    {
     "name": "stdout",
     "output_type": "stream",
     "text": [
      "O seu novo salário é de 1150.0. O seu salário sem o desconto é de 1000\n"
     ]
    }
   ],
   "source": [
    "# Digite o salário \n",
    "\n",
    "salario = float (input (\"Digite o seu salario\"))\n",
    "\n",
    "# 15% de aumento\n",
    "\n",
    "desconto = (salario * 15 / 100)\n",
    "\n",
    "final = (salario + desconto)\n",
    "\n",
    "\n",
    "print (f'O seu novo salário é de {final}. O seu salário sem o desconto é de {salario}')"
   ]
  },
  {
   "cell_type": "markdown",
   "metadata": {},
   "source": [
    "11 - Faça um algoritmo que receba um valor em graus Celsius e converta para farenheit."
   ]
  },
  {
   "cell_type": "code",
   "execution_count": 12,
   "metadata": {},
   "outputs": [
    {
     "name": "stdout",
     "output_type": "stream",
     "text": [
      "De graus Celsius para farenheit é: 89.6\n"
     ]
    }
   ],
   "source": [
    "#graus celsius \n",
    "\n",
    "celsius = float (input (\"Digite o grau celsius\"))\n",
    "\n",
    "final = (celsius * 9 / 5 + 32)\n",
    "\n",
    "print (f'De graus Celsius para farenheit é: {final}')"
   ]
  },
  {
   "cell_type": "markdown",
   "metadata": {},
   "source": [
    "12 - Faça um algoritmo que pergunte a quantidade de km percorridos por um carro alugado e a quantidade de dias pelos quais ele foi alugado. Calcule o preço a pagar, sabendo que o carro custa R$60 por dia e R$0.15 por km rodado."
   ]
  },
  {
   "cell_type": "code",
   "execution_count": 4,
   "metadata": {},
   "outputs": [
    {
     "name": "stdout",
     "output_type": "stream",
     "text": [
      " O preço que você o irá pagar por 5.0 km percorridos por 8.0 dias é:  480.75\n"
     ]
    }
   ],
   "source": [
    "# Perguntar a quantidade de km \n",
    "\n",
    "km = float (input (\"Digite a quantidade de km percorrido pelo carro alugado\"))\n",
    "\n",
    "# Perguntar a quantidade de dias\n",
    "\n",
    "dias = float (input (\"Digite a quantidade de dias pelos quais ele foi alugado\"))\n",
    "\n",
    "# Calcular o preço juntamente com as informações\n",
    "\n",
    "total = ((dias * 60) + (km * 0.15))\n",
    "\n",
    "# Exibir o resultado \n",
    "\n",
    "print (f' O preço que você o irá pagar por {km} km percorridos por {dias} dias é: {total: .2f}')"
   ]
  }
 ],
 "metadata": {
  "kernelspec": {
   "display_name": "Python 3",
   "language": "python",
   "name": "python3"
  },
  "language_info": {
   "codemirror_mode": {
    "name": "ipython",
    "version": 3
   },
   "file_extension": ".py",
   "mimetype": "text/x-python",
   "name": "python",
   "nbconvert_exporter": "python",
   "pygments_lexer": "ipython3",
   "version": "3.12.2"
  }
 },
 "nbformat": 4,
 "nbformat_minor": 2
}
