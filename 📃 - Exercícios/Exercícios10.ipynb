{
 "cells": [
  {
   "cell_type": "markdown",
   "metadata": {},
   "source": [
    "          1. Escreva uma função que utilize uma variável global para contar o número de vezes que foi chamada. A função deve retornar o número atual de chamadas."
   ]
  },
  {
   "cell_type": "code",
   "execution_count": 14,
   "metadata": {},
   "outputs": [
    {
     "data": {
      "text/plain": [
       "3"
      ]
     },
     "execution_count": 14,
     "metadata": {},
     "output_type": "execute_result"
    }
   ],
   "source": [
    "x = 0\n",
    "\n",
    "def variavel():\n",
    "    global x \n",
    "    x = x + 1\n",
    "    return (x)\n",
    "\n",
    "variavel()\n",
    "variavel()\n",
    "variavel()"
   ]
  },
  {
   "cell_type": "markdown",
   "metadata": {},
   "source": [
    "    2. Crie um algoritmo que receba em variável global o valor atual do dólar e do euro, crie uma função que receba o valor a ser convertido e imprima a conversão em dólar e em euro"
   ]
  },
  {
   "cell_type": "code",
   "execution_count": 28,
   "metadata": {},
   "outputs": [
    {
     "name": "stdout",
     "output_type": "stream",
     "text": [
      " O resultado da conversão para dólar é: 1.0\n",
      " O resultado da conversão para dólar é: 1.0623781676413255\n"
     ]
    }
   ],
   "source": [
    "dolar = 5.13\n",
    "euro = 5.45\n",
    "\n",
    "def din(x):\n",
    "    global dolar, euro\n",
    "    print (f' O resultado da conversão para dólar é: {dolar / x}')\n",
    "    print (f' O resultado da conversão para dólar é: {euro / x }')\n",
    "\n",
    "din(5.13)"
   ]
  },
  {
   "cell_type": "markdown",
   "metadata": {},
   "source": [
    "    3. Escreva uma função que recebe um nome e o adicione a uma lista de nomes global. Em seguida, escreva outra função que remova um elemento dessa lista global recebendo o nome."
   ]
  },
  {
   "cell_type": "code",
   "execution_count": 4,
   "metadata": {},
   "outputs": [
    {
     "name": "stdout",
     "output_type": "stream",
     "text": [
      "['mari']\n",
      "['mari', 'teste']\n",
      "['mari', 'teste', 'mariana']\n"
     ]
    }
   ],
   "source": [
    "nomes = []\n",
    "\n",
    "def func(nome):\n",
    "    nomes.append(nome)\n",
    "    print (nomes)\n",
    "\n",
    "def remov(nome):\n",
    "    nomes.remove(nome)\n",
    "    print(nomes)\n",
    "\n",
    "func('mari')\n",
    "func ('teste')\n",
    "func('mariana')\n"
   ]
  },
  {
   "cell_type": "markdown",
   "metadata": {},
   "source": [
    "dededededed"
   ]
  },
  {
   "cell_type": "code",
   "execution_count": 10,
   "metadata": {},
   "outputs": [
    {
     "name": "stdout",
     "output_type": "stream",
     "text": [
      "Menu\n",
      "[1] Depositar\n",
      "[2] Sacar\n",
      "[3] Consultar\n",
      "[4] Sair\n",
      "Seu saldo é de R$ 0.00\n",
      "Menu\n",
      "[1] Depositar\n",
      "[2] Sacar\n",
      "[3] Consultar\n",
      "[4] Sair\n",
      "Seu saldo é de R$ 0.00\n",
      "Menu\n",
      "[1] Depositar\n",
      "[2] Sacar\n",
      "[3] Consultar\n",
      "[4] Sair\n",
      "Seu saldo é de R$ 0.00\n",
      "Menu\n",
      "[1] Depositar\n",
      "[2] Sacar\n",
      "[3] Consultar\n",
      "[4] Sair\n",
      "Seu saldo é de R$ 0.00\n",
      "Menu\n",
      "[1] Depositar\n",
      "[2] Sacar\n",
      "[3] Consultar\n",
      "[4] Sair\n"
     ]
    }
   ],
   "source": [
    "saldo = 0 \n",
    "\n",
    "def depositar(valor):\n",
    "    global saldo\n",
    "    saldo = saldo + valor\n",
    "\n",
    "def sacar(valor) :\n",
    "    global saldo\n",
    "    saldo = saldo - valor\n",
    "\n",
    "def consultar():\n",
    "    print (f'Seu saldo é de R${saldo: .2f}')\n",
    "\n",
    "while True:\n",
    "    print ('Menu')\n",
    "    print ('[1] Depositar')\n",
    "    print ('[2] Sacar')\n",
    "    print ('[3] Consultar')\n",
    "    print ('[4] Sair')\n",
    "    opcao = input ('Digite a opção do menu')\n",
    "    if opcao == '1' :\n",
    "        valor = float (input('Digite o valor para depositar'))\n",
    "        depositar(valor)\n",
    "    elif opcao == '2' :\n",
    "        valor = float (input('Digite o valor para sacar'))\n",
    "        sacar(valor)\n",
    "    elif opcao == '3' :\n",
    "        consultar()\n",
    "    else :\n",
    "        break"
   ]
  },
  {
   "cell_type": "code",
   "execution_count": 18,
   "metadata": {},
   "outputs": [
    {
     "name": "stdout",
     "output_type": "stream",
     "text": [
      "+\n",
      "+\n",
      "+\n",
      "+\n",
      "+\n"
     ]
    }
   ],
   "source": [
    "caractere = '+'\n",
    "def desenho(i,a) :\n",
    "    for i in range(a):\n",
    "        print (caractere * 1)\n",
    "\n",
    "desenho(20,5)"
   ]
  },
  {
   "cell_type": "markdown",
   "metadata": {},
   "source": []
  }
 ],
 "metadata": {
  "kernelspec": {
   "display_name": "Python 3",
   "language": "python",
   "name": "python3"
  },
  "language_info": {
   "codemirror_mode": {
    "name": "ipython",
    "version": 3
   },
   "file_extension": ".py",
   "mimetype": "text/x-python",
   "name": "python",
   "nbconvert_exporter": "python",
   "pygments_lexer": "ipython3",
   "version": "3.12.3"
  }
 },
 "nbformat": 4,
 "nbformat_minor": 2
}
