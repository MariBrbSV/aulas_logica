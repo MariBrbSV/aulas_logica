{
 "cells": [
  {
   "cell_type": "markdown",
   "metadata": {},
   "source": [
    "                1. Crie uma lista com os números de 1 a 10 e imprima cada número.\n",
    "            "
   ]
  },
  {
   "cell_type": "code",
   "execution_count": 1,
   "metadata": {},
   "outputs": [
    {
     "name": "stdout",
     "output_type": "stream",
     "text": [
      "1\n",
      "2\n",
      "3\n",
      "4\n",
      "5\n",
      "6\n",
      "7\n",
      "8\n",
      "9\n",
      "10\n"
     ]
    }
   ],
   "source": [
    "lista = [1,2,3,4,5,6,7,8,9,10]\n",
    "\n",
    "for nr in lista :\n",
    "    print (nr)"
   ]
  },
  {
   "cell_type": "markdown",
   "metadata": {},
   "source": [
    "                  2. Crie uma lista com os nomes de três amigos e imprima cada nome."
   ]
  },
  {
   "cell_type": "code",
   "execution_count": 9,
   "metadata": {},
   "outputs": [
    {
     "name": "stdout",
     "output_type": "stream",
     "text": [
      "joana\n",
      "joao\n",
      "janaina\n"
     ]
    }
   ],
   "source": [
    "\n",
    "lista = ['joana', 'joao', 'janaina']\n",
    "\n",
    "for nome in lista :\n",
    "    print (nome)"
   ]
  },
  {
   "cell_type": "markdown",
   "metadata": {},
   "source": [
    "                      3. Crie uma lista com os meses do ano e imprima apenas os meses que começam com \"J\"."
   ]
  },
  {
   "cell_type": "code",
   "execution_count": 11,
   "metadata": {},
   "outputs": [
    {
     "name": "stdout",
     "output_type": "stream",
     "text": [
      "Janeiro\n",
      "Junho\n",
      "Julho\n"
     ]
    }
   ],
   "source": [
    "listam = ['Janeiro', 'Fevereiro', 'Março', 'Abril', 'Maio', 'Junho','Julho', 'Agosto', 'Setembro', 'Outubro','Novembro', 'Dezembro']\n",
    "\n",
    "for nome in listam :\n",
    "    if (nome[0]) == 'J' :\n",
    "        print (nome)"
   ]
  },
  {
   "cell_type": "markdown",
   "metadata": {},
   "source": [
    "              4. Crie uma lista com as palavras \"gato\", \"cachorro\", \"pássaro\" e \"peixe\", e imprima cada palavra em maiúsculas."
   ]
  },
  {
   "cell_type": "code",
   "execution_count": 1,
   "metadata": {},
   "outputs": [
    {
     "name": "stdout",
     "output_type": "stream",
     "text": [
      "GATO\n",
      "CACHORRO\n",
      "PÁSSARO\n",
      "PEIXE\n"
     ]
    }
   ],
   "source": [
    "lista = [\"gato\", \"cachorro\", \"pássaro\", \"peixe\"]\n",
    "\n",
    "for animal in lista :\n",
    "    print (animal.upper())"
   ]
  },
  {
   "cell_type": "markdown",
   "metadata": {},
   "source": [
    "               5. Crie uma lista com 5 números aleatórios e exiba o nr e seu dobro desse."
   ]
  },
  {
   "cell_type": "code",
   "execution_count": 12,
   "metadata": {},
   "outputs": [
    {
     "name": "stdout",
     "output_type": "stream",
     "text": [
      "O número é : 46\n",
      "O dobro é: 92\n",
      "O número é : 18\n",
      "O dobro é: 36\n",
      "O número é : 91\n",
      "O dobro é: 182\n",
      "O número é : 82\n",
      "O dobro é: 164\n",
      "O número é : 92\n",
      "O dobro é: 184\n"
     ]
    }
   ],
   "source": [
    "import random\n",
    "\n",
    "for nr in range(5) :\n",
    "    nmr = random.randint (1,100)\n",
    "    print (f'O número é : {nmr}')\n",
    "    dobro = nmr + nmr\n",
    "    print (f'O dobro é: {dobro}')\n",
    "    "
   ]
  },
  {
   "cell_type": "markdown",
   "metadata": {},
   "source": [
    "        6. Crie uma lista com valores numéricos e encontre o maior e o menor elemento dessa lista."
   ]
  },
  {
   "cell_type": "code",
   "execution_count": 41,
   "metadata": {},
   "outputs": [
    {
     "name": "stdout",
     "output_type": "stream",
     "text": [
      "O número maior é o 45 e o menor é o 2\n"
     ]
    }
   ],
   "source": [
    "numeros = [8,5,12,45,2]\n",
    "maior = 0\n",
    "menor = 1000000000000000\n",
    "for numeroAtual in numeros:\n",
    "    if numeroAtual > maior:\n",
    "        maior = numeroAtual\n",
    "    if numeroAtual < menor: \n",
    "        menor = numeroAtual\n",
    "\n",
    "print (f'O número maior é o {maior} e o menor é o {menor}')"
   ]
  },
  {
   "cell_type": "markdown",
   "metadata": {},
   "source": [
    "          7. Receba uma palavra do usuário e calcule quantas vogais há nesta palavra."
   ]
  },
  {
   "cell_type": "code",
   "execution_count": null,
   "metadata": {},
   "outputs": [],
   "source": [
    "palavra = input ('Digite uma palavra')\n",
    "qtdeVogais = 0 \n",
    "for letra in palavra "
   ]
  },
  {
   "cell_type": "markdown",
   "metadata": {},
   "source": [
    "      8. Nessa string ‘Gol;Corsa;Palio;Monza;Fusca;’, faça a separação desses itens para uma lista e exiba o item e a posição que ele está "
   ]
  },
  {
   "cell_type": "code",
   "execution_count": 16,
   "metadata": {},
   "outputs": [
    {
     "name": "stdout",
     "output_type": "stream",
     "text": [
      "Posição: 0 - Carro: Gol\n",
      "Posição: 1 - Carro: Corsa\n",
      "Posição: 2 - Carro: Palio\n",
      "Posição: 3 - Carro: Monza\n",
      "Posição: 4 - Carro: Fusca\n"
     ]
    }
   ],
   "source": [
    "lista = ['Gol', 'Corsa', 'Palio', 'Monza', 'Fusca']\n",
    "\n",
    "for pos, carro in enumerate(lista) :\n",
    "    print (f'Posição: {pos} - Carro: {carro}')"
   ]
  },
  {
   "cell_type": "markdown",
   "metadata": {},
   "source": [
    "     9. Faça um programa que vai ler valores numéricos e guardá-los em uma lista, caso o usuário digite 0, o programa mostre:\n",
    "    A – Quantos números foram digitados.\n",
    "    B – Mostre a lista em ordem crescente.\n",
    "    C – Mostre a lista em ordem decrescente.\n",
    "    D – O maior valor\n",
    "    E – O menor valor\n",
    "    D – Se o valor 5 foi digitado na lista ou não."
   ]
  },
  {
   "cell_type": "code",
   "execution_count": 38,
   "metadata": {},
   "outputs": [
    {
     "ename": "NameError",
     "evalue": "name 'F' is not defined",
     "output_type": "error",
     "traceback": [
      "\u001b[1;31m---------------------------------------------------------------------------\u001b[0m",
      "\u001b[1;31mNameError\u001b[0m                                 Traceback (most recent call last)",
      "Cell \u001b[1;32mIn[38], line 8\u001b[0m\n\u001b[0;32m      6\u001b[0m \u001b[38;5;28;01mif\u001b[39;00m nr \u001b[38;5;241m==\u001b[39m \u001b[38;5;241m0\u001b[39m:\n\u001b[0;32m      7\u001b[0m     \u001b[38;5;28mprint\u001b[39m (lista)\n\u001b[1;32m----> 8\u001b[0m \u001b[38;5;28;01melif\u001b[39;00m nr \u001b[38;5;241m==\u001b[39m \u001b[43mF\u001b[49m:\n\u001b[0;32m      9\u001b[0m     \u001b[38;5;28mprint\u001b[39m (lista)\n\u001b[0;32m     10\u001b[0m     \u001b[38;5;28;01mbreak\u001b[39;00m\n",
      "\u001b[1;31mNameError\u001b[0m: name 'F' is not defined"
     ]
    }
   ],
   "source": [
    "lista = []\n",
    "\n",
    "while True :\n",
    "    nr = int (input('Digite um número (Coloque 0 para informações e F para finalizar)'))\n",
    "    lista .append(nr)\n",
    "    if nr == 0:\n",
    "        print (lista)\n",
    "    elif nr == F:\n",
    "        print (lista)\n",
    "        break\n",
    "\n",
    "    "
   ]
  }
 ],
 "metadata": {
  "kernelspec": {
   "display_name": "Python 3",
   "language": "python",
   "name": "python3"
  },
  "language_info": {
   "codemirror_mode": {
    "name": "ipython",
    "version": 3
   },
   "file_extension": ".py",
   "mimetype": "text/x-python",
   "name": "python",
   "nbconvert_exporter": "python",
   "pygments_lexer": "ipython3",
   "version": "3.12.2"
  }
 },
 "nbformat": 4,
 "nbformat_minor": 2
}
