{
 "cells": [
  {
   "cell_type": "markdown",
   "metadata": {},
   "source": [
    "         1. Crie uma função sem parâmetros que exiba uma linha com 50 * , e uma mensagem de boas vindas, chame essa função por 4 vezes"
   ]
  },
  {
   "cell_type": "code",
   "execution_count": 4,
   "metadata": {},
   "outputs": [
    {
     "name": "stdout",
     "output_type": "stream",
     "text": [
      "==================================================\n",
      "Seja bem vindo\n",
      "==================================================\n",
      "==================================================\n",
      "Seja bem vindo\n",
      "==================================================\n",
      "==================================================\n",
      "Seja bem vindo\n",
      "==================================================\n",
      "==================================================\n",
      "Seja bem vindo\n",
      "==================================================\n"
     ]
    }
   ],
   "source": [
    "def x() :\n",
    "    print ('=' * 50)\n",
    "a = 'Seja bem vindo'\n",
    "\n",
    "def y(saudacoes):\n",
    "    x()\n",
    "    print (saudacoes)\n",
    "    x()\n",
    "\n",
    "y('Seja bem vindo')\n",
    "y('Seja bem vindo')\n",
    "y('Seja bem vindo')\n",
    "y('Seja bem vindo')"
   ]
  },
  {
   "cell_type": "markdown",
   "metadata": {},
   "source": [
    "      2. Crie uma função que contenha uma lista com as cores primárias e exiba cada cor em uma linha"
   ]
  },
  {
   "cell_type": "code",
   "execution_count": 24,
   "metadata": {},
   "outputs": [
    {
     "name": "stdout",
     "output_type": "stream",
     "text": [
      "Vermelho\n",
      "Azul\n",
      "Amarelo\n"
     ]
    }
   ],
   "source": [
    "def cores1() :\n",
    "    cores = ['Vermelho', 'Azul', 'Amarelo']\n",
    "    print (cores[0])\n",
    "    print (cores[1])\n",
    "    print (cores[2])\n",
    "\n",
    "cores1()"
   ]
  },
  {
   "cell_type": "markdown",
   "metadata": {},
   "source": [
    "     3. Crie uma função que recebe um número como parâmetro e exiba a tabuada até o 10, chame essa função por 3 vezes enviando parâmetros diferentes"
   ]
  },
  {
   "cell_type": "code",
   "execution_count": 19,
   "metadata": {},
   "outputs": [
    {
     "name": "stdout",
     "output_type": "stream",
     "text": [
      "3 x 0 = 0\n",
      "3 x 1 = 3\n",
      "3 x 2 = 6\n",
      "3 x 3 = 9\n",
      "3 x 4 = 12\n",
      "3 x 5 = 15\n",
      "3 x 6 = 18\n",
      "3 x 7 = 21\n",
      "3 x 8 = 24\n",
      "3 x 9 = 27\n",
      "3 x 10 = 30\n",
      "==================================================\n",
      "5 x 0 = 0\n",
      "5 x 1 = 5\n",
      "5 x 2 = 10\n",
      "5 x 3 = 15\n",
      "5 x 4 = 20\n",
      "5 x 5 = 25\n",
      "5 x 6 = 30\n",
      "5 x 7 = 35\n",
      "5 x 8 = 40\n",
      "5 x 9 = 45\n",
      "5 x 10 = 50\n",
      "==================================================\n",
      "6 x 0 = 0\n",
      "6 x 1 = 6\n",
      "6 x 2 = 12\n",
      "6 x 3 = 18\n",
      "6 x 4 = 24\n",
      "6 x 5 = 30\n",
      "6 x 6 = 36\n",
      "6 x 7 = 42\n",
      "6 x 8 = 48\n",
      "6 x 9 = 54\n",
      "6 x 10 = 60\n"
     ]
    }
   ],
   "source": [
    "def tabuada(nr) :\n",
    "    for x in range(11):\n",
    "        print (f'{nr} x {x} = {nr * x}')\n",
    "\n",
    "tabuada(3)\n",
    "print ('='*50)\n",
    "tabuada(5)\n",
    "print ('='*50)\n",
    "tabuada(6)"
   ]
  },
  {
   "cell_type": "markdown",
   "metadata": {},
   "source": [
    "     4. Crie uma função que receba 2 números e o operador matemático para realizar a operação (Ex. envio os parâmetros 2 e 5 e *, fazer a multiplicação), tratar as operações + - * / **"
   ]
  },
  {
   "cell_type": "code",
   "execution_count": 29,
   "metadata": {},
   "outputs": [
    {
     "name": "stdout",
     "output_type": "stream",
     "text": [
      "15\n"
     ]
    }
   ],
   "source": [
    "def soma(n1,n2,op):\n",
    "    if op == '+':\n",
    "        res = n1 + n2\n",
    "        print (res)\n",
    "    elif op == '-' :\n",
    "        res1 = n1 - n2\n",
    "        print (res1)\n",
    "    elif op == '*' :\n",
    "        res2 = n1 * n2\n",
    "        print (res2)\n",
    "    elif op == '/':\n",
    "        res3 = n1 / n2\n",
    "        print (res3)\n",
    "    elif op == '**' :\n",
    "        res4 = n1 ** n2\n",
    "        print (res4)\n",
    "    else:\n",
    "        print ('Você não digitou uma operação válida')\n",
    "\n",
    "soma (5,3,'*')"
   ]
  },
  {
   "cell_type": "markdown",
   "metadata": {},
   "source": [
    "     5. Crie uma função que gere uma senha aleatória, deve receber como parâmetro a quantidade de caracteres que terá a senha, crie uma lista com todos os caracteres disponíveis para a senha e com o random sorteie a qual de dígitos terá a senha"
   ]
  },
  {
   "cell_type": "code",
   "execution_count": 63,
   "metadata": {},
   "outputs": [
    {
     "name": "stdout",
     "output_type": "stream",
     "text": [
      "q&*R@VPA\n"
     ]
    }
   ],
   "source": [
    "import random\n",
    "\n",
    "def senha(tam):\n",
    "    listac = 'abcdefghijklmnopqrstuvwxyzABCDEFGHIJKLMNOPQRSTUVWXYZ1234567890*&%$#@!-=_+'\n",
    "    senha = ''\n",
    "    for i in range(tam):\n",
    "        senha = senha + random.choice(listac)\n",
    "    \n",
    "    return(senha)\n",
    "\n",
    "senhatemp = senha(8)\n",
    "print(senhatemp)"
   ]
  }
 ],
 "metadata": {
  "kernelspec": {
   "display_name": "Python 3",
   "language": "python",
   "name": "python3"
  },
  "language_info": {
   "codemirror_mode": {
    "name": "ipython",
    "version": 3
   },
   "file_extension": ".py",
   "mimetype": "text/x-python",
   "name": "python",
   "nbconvert_exporter": "python",
   "pygments_lexer": "ipython3",
   "version": "3.12.3"
  }
 },
 "nbformat": 4,
 "nbformat_minor": 2
}
