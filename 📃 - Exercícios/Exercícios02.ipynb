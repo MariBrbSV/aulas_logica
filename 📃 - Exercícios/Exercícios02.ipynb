{
 "cells": [
  {
   "cell_type": "markdown",
   "metadata": {},
   "source": [
    "୧ ‧₊˚ 💻 ⋅ ☆ Aula do dia: 29/02/2024\n",
    "\n",
    "-- Operadores relacionais e estrutura condicional"
   ]
  },
  {
   "cell_type": "markdown",
   "metadata": {},
   "source": [
    "1️⃣ - Leia 2 notas de um aluno, calcule a média e imprima aprovado ou reprovado (para ser aprovado a média deve ser no mínimo 7)"
   ]
  },
  {
   "cell_type": "code",
   "execution_count": 4,
   "metadata": {},
   "outputs": [
    {
     "name": "stdout",
     "output_type": "stream",
     "text": [
      "Você está aprovado!\n"
     ]
    }
   ],
   "source": [
    "# Ler as notas\n",
    "\n",
    "nota1 = float (input (\"Digite a primeira nota\"))\n",
    "nota2 = float (input (\"Digite a segunda nota\"))\n",
    "\n",
    "# Calcular a média\n",
    "\n",
    "media = (nota1 + nota2) / 2\n",
    "\n",
    "# Exibir reprovações \n",
    "\n",
    "if media >= 7 :\n",
    "    print ('Você está aprovado!')\n",
    "else:\n",
    "    print ('Você está reprovado!')\n"
   ]
  },
  {
   "cell_type": "markdown",
   "metadata": {},
   "source": [
    "2️⃣ - Peça dois números ao usuário e mostre qual o maior e qual o menor"
   ]
  },
  {
   "cell_type": "code",
   "execution_count": 25,
   "metadata": {},
   "outputs": [
    {
     "name": "stdout",
     "output_type": "stream",
     "text": [
      "O número 5.0 é menor que o número 7.0\n"
     ]
    }
   ],
   "source": [
    "# Solicitar dois números ao usuário\n",
    "\n",
    "numero1 = float (input ('Digite um número de'))\n",
    "\n",
    "numero2 = float (input ('Digite um número de'))\n",
    "\n",
    "# Exibir\n",
    "\n",
    "if numero1 > numero2 :\n",
    "    print (f'O número {numero1} é maior que o número {numero2}')\n",
    "\n",
    "else :\n",
    "    print (f'O número {numero1} é menor que o número {numero2}')\n"
   ]
  },
  {
   "cell_type": "markdown",
   "metadata": {},
   "source": [
    "3️⃣ - Receba um inteiro e diga se é par ou ímpar."
   ]
  },
  {
   "cell_type": "code",
   "execution_count": 11,
   "metadata": {},
   "outputs": [
    {
     "name": "stdout",
     "output_type": "stream",
     "text": [
      "O número é par\n"
     ]
    }
   ],
   "source": [
    "# Receber o número\n",
    "\n",
    "numero = int (input (\"Digite um número para saber se ele é par ou ímpar\"))\n",
    "\n",
    "# Fazer o cálculo\n",
    "\n",
    "if numero%2 == 0 :\n",
    "    print (\"O número é par\")\n",
    "else :\n",
    "    print (\"O número é ímpar\")"
   ]
  },
  {
   "cell_type": "markdown",
   "metadata": {},
   "source": [
    "4️⃣ - Receba um número inteiro e diga se é positivo ou negativo"
   ]
  },
  {
   "cell_type": "code",
   "execution_count": 13,
   "metadata": {},
   "outputs": [
    {
     "name": "stdout",
     "output_type": "stream",
     "text": [
      "O número -5.0 é negativo!\n"
     ]
    }
   ],
   "source": [
    "numero = float (input (\"Digite um número para saber se ele é negativo ou positivo\"))\n",
    "\n",
    "if numero < 0 :\n",
    "    print (f'O número {numero} é negativo!')\n",
    "else :\n",
    "    print (f'O número {numero} é positivo!')"
   ]
  },
  {
   "cell_type": "markdown",
   "metadata": {},
   "source": [
    "5️⃣ - Pergunte o ano de nascimento de uma pessoa e diga se ele é maior de idade"
   ]
  },
  {
   "cell_type": "code",
   "execution_count": 18,
   "metadata": {},
   "outputs": [
    {
     "name": "stdout",
     "output_type": "stream",
     "text": [
      "Você é menor de idade!\n"
     ]
    }
   ],
   "source": [
    "ano = int (input (\"Digite o ano de nascimento\"))\n",
    "\n",
    "if ano <= 2006 :\n",
    "    print (\"Você é maior de idade!\")\n",
    "else: \n",
    "    print (\"Você é menor de idade!\")"
   ]
  },
  {
   "cell_type": "markdown",
   "metadata": {},
   "source": [
    "6️⃣ - Ler dois números inteiros e informar se estes são iguais ou diferentes."
   ]
  },
  {
   "cell_type": "code",
   "execution_count": 1,
   "metadata": {},
   "outputs": [
    {
     "name": "stdout",
     "output_type": "stream",
     "text": [
      "Eles são diferentes\n"
     ]
    }
   ],
   "source": [
    "numero1 = int (input (\"Digite o primeiro número\"))\n",
    "\n",
    "numero2 = int (input (\"Digite o segundo número\"))\n",
    "\n",
    "if numero1 == numero2 :\n",
    "    print (\"Eles são iguais!\")\n",
    "else :\n",
    "    print (\"Eles são diferentes\")"
   ]
  },
  {
   "cell_type": "markdown",
   "metadata": {},
   "source": [
    "7️⃣ - Receba a velocidade do carro e exiba que foi multado se for maior que 80km/h, o valor da multa será R$ 7,00 por cada km excedido, exibir o valor da multa"
   ]
  },
  {
   "cell_type": "code",
   "execution_count": 1,
   "metadata": {},
   "outputs": [
    {
     "name": "stdout",
     "output_type": "stream",
     "text": [
      "Você foi multado! O valor da sua multa é de:\n",
      "2940.0\n"
     ]
    }
   ],
   "source": [
    "velocidade = float (input (\"Digite a velocidade do carro\"))\n",
    "\n",
    "if velocidade > 80:\n",
    "    print (\"Você foi multado! O valor da sua multa é de:\")\n",
    "    print ((velocidade - 80) * 7)\n",
    "else: \n",
    "    print (\"Você não foi multado!\")"
   ]
  },
  {
   "cell_type": "markdown",
   "metadata": {},
   "source": [
    "୧ ‧₊˚ 💻 ⋅ ☆ Aula do dia: 01/03/2024\n",
    "\n",
    "-- Operadores Lógicos e Estrutura Condicional "
   ]
  },
  {
   "cell_type": "markdown",
   "metadata": {},
   "source": [
    "8️⃣ - Escreva um programa que calcule o preço a ser pago por um produto considerando um desconto de 10% se o valor da compra for maior que R$ 100,00."
   ]
  },
  {
   "cell_type": "code",
   "execution_count": 14,
   "metadata": {},
   "outputs": [
    {
     "name": "stdout",
     "output_type": "stream",
     "text": [
      "O preço final da sua compra, com o desconto, é de: 450.0\n"
     ]
    }
   ],
   "source": [
    "produto = float (input (\"Digite o preço do produto\"))\n",
    "\n",
    "if produto > 100 :\n",
    "    desconto = produto * 10 / 100\n",
    "    final = produto - desconto \n",
    "    print (f'O preço final da sua compra, com o desconto, é de: {final}')\n",
    "\n",
    "else :\n",
    "    print (\"Sua compra não atingiu o valor de R$ 100\")"
   ]
  },
  {
   "cell_type": "markdown",
   "metadata": {},
   "source": [
    "9️⃣ - Desenvolva um programa que receba o valor de 3 lados de um triângulo e verifique se pode formar um triângulo."
   ]
  },
  {
   "cell_type": "code",
   "execution_count": 16,
   "metadata": {},
   "outputs": [
    {
     "name": "stdout",
     "output_type": "stream",
     "text": [
      "Ele pode ser considerado triângulo pois tem os três lados iguais.\n"
     ]
    }
   ],
   "source": [
    "lado1 = float (input (\"Digite o lado 1 do triângulo\"))\n",
    "lado2 = float (input (\"Digite o lado 2 do triângulo\"))\n",
    "lado3 = float (input (\"Digite o lado 3 do triângulo\"))\n",
    "\n",
    "if lado1 == lado2 == lado3 :\n",
    "    print (\"Ele pode ser considerado triângulo pois tem os três lados iguais.\")\n",
    "\n",
    "else :\n",
    "    print (\"Não podem ser considerados triângulos\")"
   ]
  },
  {
   "cell_type": "markdown",
   "metadata": {},
   "source": [
    "🔟 - Crie um programa que receba 2 valores e troque os valores das variáveis entre si, ex.: var a=1 e b=2 , exibir \"O valor da variável a=2 e b=1\""
   ]
  },
  {
   "cell_type": "code",
   "execution_count": 20,
   "metadata": {},
   "outputs": [],
   "source": [
    "variavel1 = float (input (\"Digite o primiro valor\"))\n",
    "variavel2 = float (input (\"Digite o segundo valor\"))\n",
    "\n",
    "if variavel1 != variavel2 :\n",
    "    print (f'O valor da primeira variável é {variavel2} e o da segunda variável é {variavel1}')\n",
    "\n",
    "else :\n",
    "    print (f'O valor da primeira variável é {variavel2} e o da segunda variável é {variavel1}')\n",
    "\n"
   ]
  }
 ],
 "metadata": {
  "kernelspec": {
   "display_name": "Python 3",
   "language": "python",
   "name": "python3"
  },
  "language_info": {
   "codemirror_mode": {
    "name": "ipython",
    "version": 3
   },
   "file_extension": ".py",
   "mimetype": "text/x-python",
   "name": "python",
   "nbconvert_exporter": "python",
   "pygments_lexer": "ipython3",
   "version": "3.12.2"
  }
 },
 "nbformat": 4,
 "nbformat_minor": 2
}
