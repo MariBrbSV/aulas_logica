{
 "cells": [
  {
   "cell_type": "markdown",
   "metadata": {},
   "source": [
    "1. Crie uma lista de filmes com 7 filmes a sua escolha, e faça as seguintes operações com ela:                                                   \n"
   ]
  },
  {
   "cell_type": "code",
   "execution_count": 56,
   "metadata": {},
   "outputs": [
    {
     "name": "stdout",
     "output_type": "stream",
     "text": [
      "reileao\n",
      "viva\n",
      "['reileao', 'avatar', 'vingadores', 'toystory', 'viva', 'Birds Of Prey']\n",
      "['reileao', 'avatar', 'vingadores', 'toystory', 'viva', 'Birds Of Prey', 'Matrix']\n",
      "['reileao', 'avatar', 'vingadores', 'toystory', 'viva', 'donzela', 'Birds Of Prey', 'Matrix']\n",
      "['avatar', 'vingadores', 'toystory', 'viva', 'donzela', 'Birds Of Prey', 'Matrix']\n",
      "['avatar', 'vingadores', 'toystory', 'viva', 'donzela', 'Birds Of Prey']\n",
      "['avatar', 'vingadores', 'toystory']\n",
      "['toystory', 'viva', 'donzela', 'Birds Of Prey']\n",
      "6\n",
      "['Birds Of Prey', 'donzela', 'viva', 'toystory', 'vingadores', 'avatar']\n"
     ]
    }
   ],
   "source": [
    "# Exiba apenas o primeiro o filme da lista\n",
    "\n",
    "filmes = ['reileao', 'avatar', 'vingadores', 'toystory', 'viva', 'Marley e eu',]\n",
    "print (filmes[0])\n",
    "\n",
    "# Exiba o filme da posição 4\n",
    "print (filmes[4])\n",
    "\n",
    "# Substitua o filme da última posição e exiba a lista\n",
    "filmes[5] = \"Birds Of Prey\"\n",
    "print (filmes)\n",
    "\n",
    "# Insira um novo filme no final da lista e exiba a lista\n",
    "filmes.append('Matrix')\n",
    "print (filmes)\n",
    "\n",
    "# Insira um novo filme na posição 5 e exiba a lista\n",
    "filmes.insert(5,'donzela')\n",
    "print (filmes)\n",
    "\n",
    "# Exclua o primeiro filme e exiba a lista\n",
    "filmes .pop(0)\n",
    "print (filmes)\n",
    "\n",
    "# Exclua o último filme e exiba a lista\n",
    "filmes .pop()\n",
    "print (filmes)\n",
    "\n",
    "# Exiba os 3 primeiros filmes da lista\n",
    "print (filmes [0:3])\n",
    "\n",
    "# Exiba os 4 últimos filmes da lista                              #refazer\n",
    "print (filmes[2:])\n",
    "\n",
    "# Exiba a quantidade de filmes atualmente na lista\n",
    "print (len(filmes))\n",
    "\n",
    "# Ordene os filmes em ordem decrescente e exiba-os\n",
    "filmes.reverse ()\n",
    "print (filmes)"
   ]
  },
  {
   "cell_type": "markdown",
   "metadata": {},
   "source": [
    "2 - Crie uma lista com os 20 times do campeonato brasileiro de futebol"
   ]
  },
  {
   "cell_type": "code",
   "execution_count": 65,
   "metadata": {},
   "outputs": [
    {
     "name": "stdout",
     "output_type": "stream",
     "text": [
      " O time campeão é : Palmeiras\n",
      " Times que irão jogar a libertadores : ['Palmeiras', 'Corinthians', 'Flamengo', 'Fluminense']\n"
     ]
    }
   ],
   "source": [
    "times = ['Palmeiras', 'Corinthians', 'Flamengo', 'Fluminense', 'Fortaleza', 'Grêmio', 'Santos', 'São Paulo', 'Internacional', 'Vasco da Gama', 'Cruzeiro', 'Botafogo', 'Cuiabá', 'Goiás', 'Atlético', 'Bahia' 'Bragantino', 'Juventude', 'Vitória', 'Criciuma']\n",
    "\n",
    "# Exiba o primeiro time da lista como campeão\n",
    "print (f' O time campeão é : {times [0]}')\n",
    "\n",
    "# Exiba os 4 primeiros times como que irão jogar a libertadores\n",
    "print (f' Times que irão jogar a libertadores : {times [0:4]}')\n",
    "\n",
    "# Exiba os 4 últimos times como os que estão rebaixados para a série B\n",
    "print \n"
   ]
  }
 ],
 "metadata": {
  "kernelspec": {
   "display_name": "Python 3",
   "language": "python",
   "name": "python3"
  },
  "language_info": {
   "codemirror_mode": {
    "name": "ipython",
    "version": 3
   },
   "file_extension": ".py",
   "mimetype": "text/x-python",
   "name": "python",
   "nbconvert_exporter": "python",
   "pygments_lexer": "ipython3",
   "version": "3.12.2"
  }
 },
 "nbformat": 4,
 "nbformat_minor": 2
}
