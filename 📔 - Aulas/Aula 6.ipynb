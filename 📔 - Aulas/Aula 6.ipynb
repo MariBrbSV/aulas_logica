{
 "cells": [
  {
   "cell_type": "code",
   "execution_count": null,
   "metadata": {},
   "outputs": [],
   "source": []
  },
  {
   "cell_type": "markdown",
   "metadata": {},
   "source": [
    "============================================ ATIVIDADES ============================================="
   ]
  },
  {
   "cell_type": "markdown",
   "metadata": {},
   "source": [
    "1 - Utilizando o comando FOR, exiba todos os números ímpares, de 1 a 40."
   ]
  },
  {
   "cell_type": "code",
   "execution_count": null,
   "metadata": {},
   "outputs": [],
   "source": [
    "for x in range (1, 40) :\n",
    "    if x % 2 == 1 :\n",
    "        print (f' O número {x} é par!')"
   ]
  },
  {
   "cell_type": "markdown",
   "metadata": {},
   "source": [
    "2 - Gere os 6 números do sorteio da mega-sena de forma aleatória."
   ]
  },
  {
   "cell_type": "code",
   "execution_count": null,
   "metadata": {},
   "outputs": [],
   "source": [
    "import random \n",
    "for x in range (6) :\n",
    "    x = random.randint (1,60)\n",
    "    print (f'O número da megasena é: {x}')"
   ]
  },
  {
   "cell_type": "markdown",
   "metadata": {},
   "source": [
    "3 - Receba 5 números e verifique a soma e a quantidade de todos os pares e ímpares digitados"
   ]
  },
  {
   "cell_type": "code",
   "execution_count": null,
   "metadata": {},
   "outputs": [],
   "source": [
    "qntpar = 0\n",
    "qntimpar = 0\n",
    "soma = 0\n",
    "\n",
    "for _ in range(5):\n",
    "    nr = float(input(\"Digite um número: \"))\n",
    "    print(f\"Número digitado: {nr}\")\n",
    "    if nr % 2 == 0:\n",
    "        qntpar += 1\n",
    "    else:\n",
    "        qntimpar += 1\n",
    "    soma += nr\n",
    "\n",
    "print(f'A soma desses números é: {soma}')\n",
    "print(f\"A quantidade de números pares é: {qntpar}\")\n",
    "print(f'A quantidade de números ímpares é: {qntimpar}')\n"
   ]
  },
  {
   "cell_type": "markdown",
   "metadata": {},
   "source": [
    "4 - Solicite os parâmetros de início, fim e passo para o laço de repetição usando a função range() e exiba o valor atual da variável de controle a cada iteração. range ( x , y , z )"
   ]
  },
  {
   "cell_type": "code",
   "execution_count": null,
   "metadata": {},
   "outputs": [],
   "source": [
    "inicio = int (input ('Digite o número de início'))\n",
    "fim = int (input ('Digite o número de fim'))\n",
    "passo = int (input ('Digite o número de passo'))\n",
    "\n",
    "for x in range (inicio,fim,passo) :\n",
    "    print (x)"
   ]
  },
  {
   "cell_type": "markdown",
   "metadata": {},
   "source": [
    "5 - Ler do teclado a idade e o sexo de 10 pessoas, calcule e imprima:                                                                                \n",
    "• idade média das mulheres                                                                                                                       \n",
    "• idade média dos homens                                                                                                                         \n",
    "• idade média do grupo"
   ]
  },
  {
   "cell_type": "code",
   "execution_count": 4,
   "metadata": {},
   "outputs": [
    {
     "ename": "ZeroDivisionError",
     "evalue": "division by zero",
     "output_type": "error",
     "traceback": [
      "\u001b[1;31m---------------------------------------------------------------------------\u001b[0m",
      "\u001b[1;31mZeroDivisionError\u001b[0m                         Traceback (most recent call last)",
      "Cell \u001b[1;32mIn[4], line 17\u001b[0m\n\u001b[0;32m     13\u001b[0m         soma_homens \u001b[38;5;241m=\u001b[39m soma_homens \u001b[38;5;241m+\u001b[39m idade\n\u001b[0;32m     14\u001b[0m         qtde_homens \u001b[38;5;241m=\u001b[39m qtde_homens \u001b[38;5;241m+\u001b[39m \u001b[38;5;241m1\u001b[39m\n\u001b[1;32m---> 17\u001b[0m \u001b[38;5;28mprint\u001b[39m (\u001b[38;5;124mf\u001b[39m\u001b[38;5;124m'\u001b[39m\u001b[38;5;124m Média das mulheres \u001b[39m\u001b[38;5;132;01m{\u001b[39;00m\u001b[43msoma_mulheres\u001b[49m\u001b[38;5;250;43m \u001b[39;49m\u001b[38;5;241;43m/\u001b[39;49m\u001b[38;5;250;43m \u001b[39;49m\u001b[43mqtde_mulheres\u001b[49m\u001b[38;5;132;01m}\u001b[39;00m\u001b[38;5;124m'\u001b[39m)\n\u001b[0;32m     18\u001b[0m \u001b[38;5;28mprint\u001b[39m (\u001b[38;5;124mf\u001b[39m\u001b[38;5;124m'\u001b[39m\u001b[38;5;124m Média dos homens \u001b[39m\u001b[38;5;132;01m{\u001b[39;00msoma_homens\u001b[38;5;250m \u001b[39m\u001b[38;5;241m/\u001b[39m\u001b[38;5;250m \u001b[39mqtde_homens\u001b[38;5;250m \u001b[39m\u001b[38;5;132;01m}\u001b[39;00m\u001b[38;5;124m'\u001b[39m)\n\u001b[0;32m     19\u001b[0m \u001b[38;5;28mprint\u001b[39m (\u001b[38;5;124mf\u001b[39m\u001b[38;5;124m'\u001b[39m\u001b[38;5;124mMédia do grupo \u001b[39m\u001b[38;5;132;01m{\u001b[39;00m(soma_homens\u001b[38;5;250m \u001b[39m\u001b[38;5;241m+\u001b[39m\u001b[38;5;250m \u001b[39msoma_mulheres)\u001b[38;5;250m \u001b[39m\u001b[38;5;241m/\u001b[39m\u001b[38;5;250m \u001b[39m(qtde_homens\u001b[38;5;250m \u001b[39m\u001b[38;5;241m+\u001b[39m\u001b[38;5;250m \u001b[39mqtde_mulheres)\u001b[38;5;132;01m}\u001b[39;00m\u001b[38;5;124m'\u001b[39m)\n",
      "\u001b[1;31mZeroDivisionError\u001b[0m: division by zero"
     ]
    }
   ],
   "source": [
    "soma_mulheres = 0\n",
    "soma_homens = 0\n",
    "qtde_mulheres = 0\n",
    "qtde_homens = 0\n",
    "\n",
    "for x in range (5) :\n",
    "    idade = int (input (f\"Qual a idade da pessoa {x}?\"))\n",
    "    sexo = input (f'Qual é o sexo da pessoa {x}? [F para feminino e M para masculino]')\n",
    "    if sexo == \"F\" :\n",
    "        soma_mulheres = soma_mulheres + idade\n",
    "        qtde_mulheres = qtde_mulheres + 1\n",
    "    else :\n",
    "        soma_homens = soma_homens + idade\n",
    "        qtde_homens = qtde_homens + 1\n",
    "\n",
    "\n",
    "print (f' Média das mulheres {soma_mulheres / qtde_mulheres}')\n",
    "print (f' Média dos homens {soma_homens / qtde_homens }')\n",
    "print (f'Média do grupo {(soma_homens + soma_mulheres) / (qtde_homens + qtde_mulheres)}')"
   ]
  },
  {
   "cell_type": "markdown",
   "metadata": {},
   "source": [
    "6 - Escreva um programa que mostre todos os números entre 5 e 100 que são divisíveis por 7. Os números obtidos devem ser impressos em sequência."
   ]
  },
  {
   "cell_type": "code",
   "execution_count": 7,
   "metadata": {},
   "outputs": [
    {
     "name": "stdout",
     "output_type": "stream",
     "text": [
      " O número 7 é divisível por 7\n",
      " O número 14 é divisível por 7\n",
      " O número 21 é divisível por 7\n",
      " O número 28 é divisível por 7\n",
      " O número 35 é divisível por 7\n",
      " O número 42 é divisível por 7\n",
      " O número 49 é divisível por 7\n",
      " O número 56 é divisível por 7\n",
      " O número 63 é divisível por 7\n",
      " O número 70 é divisível por 7\n",
      " O número 77 é divisível por 7\n",
      " O número 84 é divisível por 7\n",
      " O número 91 é divisível por 7\n",
      " O número 98 é divisível por 7\n"
     ]
    }
   ],
   "source": [
    "for x in range (5,100) :\n",
    "    if x % 7 == 0 :\n",
    "        print (f' O número {x} é divisível por 7')"
   ]
  },
  {
   "cell_type": "code",
   "execution_count": 3,
   "metadata": {},
   "outputs": [
    {
     "name": "stdout",
     "output_type": "stream",
     "text": [
      "soicutev suecram\n"
     ]
    }
   ],
   "source": [
    "palavra = input ('Digite uma palavra:')\n",
    "nova_palavra = ''\n",
    "\n",
    "for letra in palavra :\n",
    "    nova_palavra = letra + nova_palavra\n",
    "\n",
    "print (nova_palavra)"
   ]
  },
  {
   "cell_type": "markdown",
   "metadata": {},
   "source": [
    "===== 28 / 03 / 2024 : Variáveis compostos - Vetores / Listas"
   ]
  },
  {
   "cell_type": "code",
   "execution_count": 4,
   "metadata": {},
   "outputs": [
    {
     "name": "stdout",
     "output_type": "stream",
     "text": [
      "['Maça', 'Banana', 'Abacaxi', 'Uva']\n",
      "Banana\n",
      "[5, 7, 10, 40, 8]\n"
     ]
    }
   ],
   "source": [
    "frutas = ['Maça', 'Banana', 'Abacaxi', \"Uva\"]\n",
    "print (frutas)\n",
    "print (frutas [1])\n",
    "\n",
    "\n",
    "# Declaração de uma lista vazia\n",
    "lista_vazia = []\n",
    "\n",
    "# Declaração de uma lista de números\n",
    "numeros = [5,7,10,40,8]\n",
    "\n",
    "# Declaração de uma lista de strings \n",
    "nomes = ['Ana', 'Joana', 'Maria']\n",
    "\n",
    "# Lista mista \n",
    "lista_mista = [1, \"teste\", True, 3.5]"
   ]
  },
  {
   "cell_type": "code",
   "execution_count": 27,
   "metadata": {},
   "outputs": [
    {
     "name": "stdout",
     "output_type": "stream",
     "text": [
      "['Maça', 'Banana', 'Abacaxi', 'Melancia']\n",
      "['Maça', 'Banana', 'Abacaxi', 'Melancia', 'Laranja']\n",
      "['Maça', 'Banana', 'morango', 'Abacaxi', 'Melancia', 'Laranja']\n",
      "['Maça', 'Banana', 'morango']\n",
      "['Maça', 'Banana', 'morango']\n"
     ]
    }
   ],
   "source": [
    "frutas = ['Maça', 'Banana', 'Abacaxi', \"Uva\"]\n",
    "#Alterando os dados de um item da lista\n",
    "frutas[3] = 'Melancia'\n",
    "print (frutas)\n",
    "\n",
    "# Incluindo um novo item no final da lista\n",
    "frutas.append(\"Laranja\")\n",
    "\n",
    "print (frutas)\n",
    "\n",
    "# Inserindo um novo item em qualquer posição \n",
    "frutas.insert(2,'morango')\n",
    "print (frutas)\n",
    "\n",
    "# Excluir fruta de uma determinada posição \n",
    "del frutas[3]\n",
    "# OU\n",
    "frutas .pop(3)\n",
    "\n",
    "# Excluir o último item da lista\n",
    "frutas.pop()\n",
    "\n",
    "print (frutas)"
   ]
  },
  {
   "cell_type": "code",
   "execution_count": 1,
   "metadata": {},
   "outputs": [
    {
     "name": "stdout",
     "output_type": "stream",
     "text": [
      "Uva\n",
      "['Maça', 'Banana', 'Abacaxi', 'Uva']\n",
      "['Banana', 'Abacaxi', 'Uva']\n",
      "Uva\n",
      "4\n",
      "['Abacaxi', 'Banana', 'Maça', 'Uva']\n",
      "['Uva', 'Maça', 'Banana', 'Abacaxi']\n"
     ]
    }
   ],
   "source": [
    "frutas = ['Maça', 'Banana', 'Abacaxi', \"Uva\"]\n",
    "\n",
    "# Posição específica\n",
    "print (frutas[3])\n",
    "\n",
    "# Da posição 0 pegar 4 itens\n",
    "print (frutas[0:4])\n",
    "\n",
    "# Da posição 1 até o último \n",
    "print (frutas[1:])\n",
    "\n",
    "# Nr de itens do fim pro início\n",
    "print (frutas[-1])\n",
    "\n",
    "# Total de itens na lista\n",
    "print (len(frutas))\n",
    "\n",
    "frutas.sort()     # Ordenando lista em ordem crescente \n",
    "print (frutas)\n",
    "\n",
    "frutas.reverse()      #Ordenando listas em ordem decrescente \n",
    "print (frutas)"
   ]
  }
 ],
 "metadata": {
  "kernelspec": {
   "display_name": "Python 3",
   "language": "python",
   "name": "python3"
  },
  "language_info": {
   "codemirror_mode": {
    "name": "ipython",
    "version": 3
   },
   "file_extension": ".py",
   "mimetype": "text/x-python",
   "name": "python",
   "nbconvert_exporter": "python",
   "pygments_lexer": "ipython3",
   "version": "3.12.3"
  }
 },
 "nbformat": 4,
 "nbformat_minor": 2
}
