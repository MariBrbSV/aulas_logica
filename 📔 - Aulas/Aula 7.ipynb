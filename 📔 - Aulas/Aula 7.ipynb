{
 "cells": [
  {
   "cell_type": "markdown",
   "metadata": {},
   "source": [
    "---> 🎀 Aula 04/04/2024 : Iteração em listas"
   ]
  },
  {
   "cell_type": "code",
   "execution_count": 11,
   "metadata": {},
   "outputs": [
    {
     "name": "stdout",
     "output_type": "stream",
     "text": [
      "É uma vogal\n"
     ]
    }
   ],
   "source": [
    "# Criando uma lista de vogais\n",
    "vogais = ['a', 'e', 'i', 'o', 'u']\n",
    "# Recebendo um caractere digitado pelo usuário \n",
    "letra = input (\"Digite uma letra para saber se ela é uma vogal\")\n",
    "# o método .lower() deixa todas as letras digitadas como minúsculas\n",
    "# o método .upper () deixa todas as letras digitadas como maiúsculas\n",
    "# lemos da seguinte forma:\n",
    "# SE a letra em MINUSCULA ESTIVER na lista de vogais ENTÃO\n",
    "\n",
    "if letra.lower() in vogais :\n",
    "    print ('É uma vogal')\n",
    "else :\n",
    "    print ('Não é uma vogal')\n"
   ]
  },
  {
   "cell_type": "code",
   "execution_count": 1,
   "metadata": {},
   "outputs": [
    {
     "name": "stdout",
     "output_type": "stream",
     "text": [
      " O caractere a é uma vogal\n"
     ]
    }
   ],
   "source": [
    "vogais = ['a', 'e', 'i', 'o', 'u']\n",
    "consoante = ['b', 'c', 'd', 'f', 'g', 'h', 'j','k','l','m','n','p','q','r','s','t','u','w','x','y','z']\n",
    "letra = input (\"Digite uma letra para saber se ela é uma vogal ou consoante\")\n",
    "\n",
    "if letra.lower() in vogais :\n",
    "    print (f' O caractere {letra} é uma vogal')\n",
    "elif letra.lower() in consoante :\n",
    "    print (f' O caractere {letra} não é uma vogal')\n",
    "else :\n",
    "    print (f' O caractere {letra} não é uma letra e não tem como achar vogal ou consoante')"
   ]
  },
  {
   "cell_type": "markdown",
   "metadata": {},
   "source": [
    "                            --> Receber para número"
   ]
  },
  {
   "cell_type": "code",
   "execution_count": 22,
   "metadata": {},
   "outputs": [
    {
     "name": "stdout",
     "output_type": "stream",
     "text": [
      "Você digitou o caractere ⏩ 5 ⏪, que é um número!\n"
     ]
    }
   ],
   "source": [
    "numeros = ['1', '2', '3', '4', '5', '6','7','8','9','10']\n",
    "vogais = ['a', 'e', 'i', 'o', 'u']\n",
    "consoante = ['b', 'c', 'd', 'f', 'g', 'h', 'j','k','l','m','n','p','q','r','s','t','u','w','x','y','z']\n",
    "nmr = input (\"Digite um caractere para saber se ele é um número\")\n",
    "\n",
    "if nmr in numeros :\n",
    "    print (f'Você digitou o caractere ⏩ {nmr} ⏪, que é um número!')\n",
    "elif nmr in vogais :\n",
    "    print (f' O caractere ⏩ {nmr} ⏪ é uma vogal e não é um número')\n",
    "else :\n",
    "    print (f' O caractere ⏩ {nmr} ⏪ é uma consoante e não é um número')"
   ]
  },
  {
   "cell_type": "markdown",
   "metadata": {},
   "source": [
    "                              ---> Iterando com cada item da lista 💭"
   ]
  },
  {
   "cell_type": "code",
   "execution_count": 32,
   "metadata": {},
   "outputs": [
    {
     "name": "stdout",
     "output_type": "stream",
     "text": [
      "jin\n",
      "namjoon\n",
      "suga\n",
      "jhope\n",
      "taehyung\n",
      "jungkook\n",
      "jimin\n",
      "26\n",
      "26\n"
     ]
    }
   ],
   "source": [
    "listabts = ['jin', 'namjoon', 'suga', 'jhope', 'taehyung','jungkook','jimin']\n",
    "\n",
    "for nome in listabts : \n",
    "    print (nome)\n",
    "\n",
    "\n",
    "# Utilizando lista com números\n",
    "\n",
    "listanr = [4,6,2,5,9]\n",
    "soma = 0\n",
    "\n",
    "for nr in listanr :\n",
    "    soma = soma + nr\n",
    "\n",
    "print (soma)\n",
    "\n",
    "# Essa função que escrevemos faz a mesma coisa que \n",
    "\n",
    "soma = sum(listanr)\n",
    "print (soma)"
   ]
  },
  {
   "cell_type": "markdown",
   "metadata": {},
   "source": [
    "                                                  ---> Função enumerate "
   ]
  },
  {
   "cell_type": "code",
   "execution_count": 33,
   "metadata": {},
   "outputs": [
    {
     "name": "stdout",
     "output_type": "stream",
     "text": [
      "A fruta Maça está na posição 0\n",
      "A fruta Banana está na posição 1\n",
      "A fruta Abacaxi está na posição 2\n",
      "A fruta Uva está na posição 3\n"
     ]
    }
   ],
   "source": [
    "listafrutas = ['Maça','Banana', 'Abacaxi', 'Uva']\n",
    "\n",
    "for pos,fruta in enumerate (listafrutas):\n",
    "    print (f'A fruta {fruta} está na posição {pos}')"
   ]
  },
  {
   "cell_type": "markdown",
   "metadata": {},
   "source": [
    "                                        ----> Função Split"
   ]
  },
  {
   "cell_type": "code",
   "execution_count": 14,
   "metadata": {},
   "outputs": [
    {
     "name": "stdout",
     "output_type": "stream",
     "text": [
      " Celular\n",
      " Notebook\n",
      " TV\n",
      " Tablet\n",
      " Headset\n",
      "S\n",
      "E\n",
      "N\n",
      "A\n",
      "I\n",
      "S\n",
      "I\n"
     ]
    }
   ],
   "source": [
    "# Separar a string\n",
    "\n",
    "produtos = ' Celular, Notebook, TV, Tablet, Headset'\n",
    "lista = produtos.split(',')\n",
    "for produtos in lista :\n",
    "    print (produtos)\n",
    "\n",
    "# =============================\n",
    "\n",
    "palavra = 'SENAI'\n",
    "\n",
    "for letra in palavra :\n",
    "    print (letra)\n",
    "\n",
    "print (palavra [0])\n",
    "print (palavra [-1])\n",
    "\n",
    "# ============================\n",
    "\n"
   ]
  },
  {
   "cell_type": "markdown",
   "metadata": {},
   "source": [
    "                                                     ---> Continuação do conteúdo - 05/04/2024"
   ]
  },
  {
   "cell_type": "code",
   "execution_count": 5,
   "metadata": {},
   "outputs": [
    {
     "name": "stdout",
     "output_type": "stream",
     "text": [
      "1º - aaaaaa\n",
      "2º - bbbbbbbbb\n",
      "3º - cccccccccccccccccccc\n"
     ]
    }
   ],
   "source": [
    "# Criando uma lista vazia\n",
    "lista = []\n",
    "# Laço de repetição sem um nr de execução definida \n",
    "\n",
    "while True :\n",
    "    # 🎀 Recebendo informação do usuário e armazenamento em uma variável \n",
    "    comida = input ('Digite uma comida que você mais gosta')\n",
    "    # 🎀 Inserindo o valor da variável no final da nossa lista \n",
    "    lista .append(comida)\n",
    "    # 🎀 Obtendo a resposta do usuário se deseja continuar\n",
    "    resp = input('Deseja continuar? (S/N)')\n",
    "    # 🎀 Verificando condição da resposta dele, se for N ou n sair do laço\n",
    "    if resp in 'Nn' :\n",
    "        # 🎀 Parando o laço de repetição while\n",
    "        break\n",
    "    \n",
    "# Fora do while - após finalizar sua execução e encontrar o break \n",
    "# Laço de repetição para exibir os itens e suas posições \n",
    "for pos, comida in enumerate(lista):\n",
    "    # 🎀 Exibindo as variáveis de cada item da lista\n",
    "    print (f'{pos+1}º - {comida}')"
   ]
  }
 ],
 "metadata": {
  "kernelspec": {
   "display_name": ".venv",
   "language": "python",
   "name": "python3"
  },
  "language_info": {
   "codemirror_mode": {
    "name": "ipython",
    "version": 3
   },
   "file_extension": ".py",
   "mimetype": "text/x-python",
   "name": "python",
   "nbconvert_exporter": "python",
   "pygments_lexer": "ipython3",
   "version": "3.12.3"
  }
 },
 "nbformat": 4,
 "nbformat_minor": 2
}
