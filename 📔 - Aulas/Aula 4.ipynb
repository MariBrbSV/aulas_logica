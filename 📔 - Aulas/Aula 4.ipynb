{
 "cells": [
  {
   "cell_type": "markdown",
   "metadata": {},
   "source": [
    "୧ ‧₊˚ 💻 ⋅ ☆ Aula do dia: 08/03/2024\n",
    "\n",
    "-- Laços de Repetição - While"
   ]
  },
  {
   "cell_type": "code",
   "execution_count": 1,
   "metadata": {},
   "outputs": [
    {
     "name": "stdout",
     "output_type": "stream",
     "text": [
      "Eu vou prestar atenção na aula\n",
      "Eu vou prestar atenção na aula\n",
      "Eu vou prestar atenção na aula\n",
      "Eu vou prestar atenção na aula\n",
      "Eu vou prestar atenção na aula\n",
      "Eu vou prestar atenção na aula\n",
      "Eu vou prestar atenção na aula\n",
      "Eu vou prestar atenção na aula\n",
      "Eu vou prestar atenção na aula\n",
      "Eu vou prestar atenção na aula\n",
      "Eu vou prestar atenção na aula\n",
      "Eu vou prestar atenção na aula\n",
      "Eu vou prestar atenção na aula\n",
      "Eu vou prestar atenção na aula\n",
      "Eu vou prestar atenção na aula\n",
      "Eu vou prestar atenção na aula\n",
      "Eu vou prestar atenção na aula\n",
      "Eu vou prestar atenção na aula\n",
      "FIM\n",
      "10\n",
      "9\n",
      "8\n",
      "7\n",
      "6\n",
      "5\n",
      "4\n",
      "3\n",
      "2\n",
      "1\n",
      "0\n",
      "Feliz Ano Novo!!! 🎆\n"
     ]
    }
   ],
   "source": [
    "# Para duplicar, eu usaria o comando: SHIFT + ALT + SETA P BAIXO\n",
    "\n",
    "print ('Eu vou prestar atenção na aula')\n",
    "print ('Eu vou prestar atenção na aula')\n",
    "print ('Eu vou prestar atenção na aula')\n",
    "print ('Eu vou prestar atenção na aula')\n",
    "print ('Eu vou prestar atenção na aula')\n",
    "print ('Eu vou prestar atenção na aula')\n",
    "print ('Eu vou prestar atenção na aula')\n",
    "print ('Eu vou prestar atenção na aula')\n",
    "\n",
    "# Para não fazermos isso, usaremos:\n",
    "\n",
    "x = 1\n",
    "while x <= 10 :\n",
    "    print ('Eu vou prestar atenção na aula')\n",
    "    x = x + 1\n",
    "print (\"FIM\")\n",
    "\n",
    "# Exemplo de contagem regressiva\n",
    "\n",
    "import time               # <--- Está importando uma biblioteca de tempo\n",
    "x = 10 \n",
    "while x >= 0 :\n",
    "    print (x)\n",
    "    time.sleep(1)        # Dando uma pausa de 1 seg na execução \n",
    "    x = x - 1\n",
    "print ('Feliz Ano Novo!!! 🎆')"
   ]
  },
  {
   "cell_type": "code",
   "execution_count": 9,
   "metadata": {},
   "outputs": [
    {
     "name": "stdout",
     "output_type": "stream",
     "text": [
      " Seja bem vindo, mari\n",
      " Seja bem vindo, mariana\n",
      " Seja bem vindo, mariana borba\n",
      " Seja bem vindo, mari\n",
      " Seja bem vindo, mariana\n",
      " Seja bem vindo, sair\n"
     ]
    }
   ],
   "source": [
    "texto = ''\n",
    "\n",
    "while texto != 'sair' :\n",
    "    texto = input ('Digite seu nome (\"Sair\" para terminar)')\n",
    "    print (f' Seja bem vindo, {texto}')"
   ]
  },
  {
   "cell_type": "markdown",
   "metadata": {},
   "source": [
    "================ TESTE ================="
   ]
  },
  {
   "cell_type": "code",
   "execution_count": 1,
   "metadata": {},
   "outputs": [
    {
     "name": "stdout",
     "output_type": "stream",
     "text": [
      "Você está preso tentando hackear a rede!\n",
      "FIM\n"
     ]
    }
   ],
   "source": [
    "senhasenai = 1234\n",
    "tentativas = 0\n",
    "\n",
    "while True :\n",
    "    senha = input (\"Qual é a senha 🧐? 'Desisto' para sair 🔒\")\n",
    "    if senha == senhasenai :\n",
    "        print (\"Você hackeou a rede!\")\n",
    "        break\n",
    "    elif senha == 'Desisto' :\n",
    "        break \n",
    "    else :\n",
    "        tentativas = tentativas + 1\n",
    "        if tentativas == 3 :\n",
    "            print ('Você está preso tentando hackear a rede!')\n",
    "            break\n",
    "print ('FIM')\n"
   ]
  },
  {
   "cell_type": "markdown",
   "metadata": {},
   "source": [
    "୧ ‧₊˚ 💻 ⋅ ☆ Aula do dia: 21/03/2024\n",
    "\n",
    "-- Revisão: Laços de Repetição - While\n"
   ]
  },
  {
   "cell_type": "code",
   "execution_count": 4,
   "metadata": {},
   "outputs": [
    {
     "name": "stdout",
     "output_type": "stream",
     "text": [
      "FIM\n"
     ]
    }
   ],
   "source": [
    "resp = 'Sim'\n",
    "while resp == 'Sim' :\n",
    "    resp = input ('Deseja continuar? [Sim/Não]')\n",
    "\n",
    "print ('FIM')\n"
   ]
  },
  {
   "cell_type": "code",
   "execution_count": 8,
   "metadata": {},
   "outputs": [
    {
     "name": "stdout",
     "output_type": "stream",
     "text": [
      " O valor total da sua compra é de : 💲 R$ 30.00 💲\n",
      " A quantidade de itens no seu carrinho é de : 🛒 3 🛒\n"
     ]
    }
   ],
   "source": [
    "soma = 0\n",
    "quantidade = 0\n",
    "while True :\n",
    "    valor = float (input('Digite o valor do produto [-1 para encerrar]'))\n",
    "    if valor == -1 :\n",
    "        break\n",
    "    soma = valor + soma \n",
    "    quantidade = quantidade + 1\n",
    "\n",
    "print (f' O valor total da sua compra é de : 💲 R${soma: .2f} 💲')\n",
    "\n",
    "print (f' A quantidade de itens no seu carrinho é de : 🛒 {quantidade} 🛒') "
   ]
  },
  {
   "cell_type": "code",
   "execution_count": 11,
   "metadata": {},
   "outputs": [
    {
     "name": "stdout",
     "output_type": "stream",
     "text": [
      "-=-=-=-=-=-=-=-=-=-=-=-=-=-=-=-=-=-=-=-=-=-=-=-=-\n",
      "         🧐   JOGO DA ADIVINHAÇÃO               \n",
      "-=-=-=-=-=-=-=-=-=-=-=-=-=-=-=-=-=-=-=-=-=-=-=-=-\n",
      " Você chutou 80. Tente um número menor ⬇\n",
      " Você chutou 40. Tente um número menor ⬇\n",
      " Você chutou 50. Tente um número menor ⬇\n",
      " Você chutou 30. Tente um número menor ⬇\n",
      " Você chutou 30. Tente um número menor ⬇\n",
      " Você chutou 10. Tente um número maior ⬆\n",
      " Você chutou 10. Tente um número maior ⬆\n",
      " Você chutou 15. Tente um número maior ⬆\n",
      " Você chutou 20. Tente um número menor ⬇\n",
      " Você chutou 65. Tente um número menor ⬇\n",
      " Você chutou 16. Tente um número maior ⬆\n",
      " Você chutou 17. Tente um número maior ⬆\n",
      " Você chutou 18. Parabéns você acertou 🧐\n"
     ]
    }
   ],
   "source": [
    "# Importando a biblioteca de números aleatórios\n",
    "import random \n",
    "\n",
    "# Sorteando um número de 1 a 100\n",
    "nsort = random.randint (1,100)\n",
    "\n",
    "print ('-=-=-=-=-=-=-=-=-=-=-=-=-=-=-=-=-=-=-=-=-=-=-=-=-')\n",
    "print ('         🧐   JOGO DA ADIVINHAÇÃO               ')\n",
    "print ('-=-=-=-=-=-=-=-=-=-=-=-=-=-=-=-=-=-=-=-=-=-=-=-=-')\n",
    "\n",
    "\n",
    "\n",
    "acertou = False \n",
    "while acertou == False :\n",
    "    chute = int (input ('🧐 Digite um número entre 1 e 100:'))\n",
    "    if chute == nsort :\n",
    "        print (f' Você chutou {chute}. Parabéns você acertou 🧐')\n",
    "        acertou = True \n",
    "    elif chute > nsort :\n",
    "        print (f' Você chutou {chute}. Tente um número menor ⬇')\n",
    "    else :\n",
    "        print (f' Você chutou {chute}. Tente um número maior ⬆')\n",
    "\n"
   ]
  },
  {
   "cell_type": "markdown",
   "metadata": {},
   "source": [
    "⭐🎀 Utilizando o comando while, exiba todos os número pares, de 1 a 20 ~"
   ]
  },
  {
   "cell_type": "code",
   "execution_count": 10,
   "metadata": {},
   "outputs": [
    {
     "name": "stdout",
     "output_type": "stream",
     "text": [
      "O número 2 é par\n",
      "O número 4 é par\n",
      "O número 6 é par\n",
      "O número 8 é par\n",
      "O número 10 é par\n",
      "O número 12 é par\n",
      "O número 14 é par\n",
      "O número 16 é par\n",
      "O número 18 é par\n",
      "O número 20 é par\n"
     ]
    }
   ],
   "source": [
    "x = 1\n",
    "while x <= 20 :\n",
    "    if x % 2 == 0 :\n",
    "        print (f'O número {x} é par')\n",
    "    x = x + 1"
   ]
  },
  {
   "cell_type": "markdown",
   "metadata": {},
   "source": [
    "୧ ‧₊˚ 💻 ⋅ ☆ Aula do dia: 22/03/2024\n",
    "\n",
    "-- Revisão: Laços de Repetição - While e FOR"
   ]
  },
  {
   "cell_type": "markdown",
   "metadata": {},
   "source": [
    "⭐🎀 Gere os 6 números do sorteio da mega-sena de forma aleatória."
   ]
  },
  {
   "cell_type": "code",
   "execution_count": 20,
   "metadata": {},
   "outputs": [
    {
     "name": "stdout",
     "output_type": "stream",
     "text": [
      " Número da mega-sena: 18\n",
      " Número da mega-sena: 52\n",
      " Número da mega-sena: 9\n",
      " Número da mega-sena: 32\n",
      " Número da mega-sena: 55\n",
      " Número da mega-sena: 58\n"
     ]
    }
   ],
   "source": [
    "import random \n",
    "nmg = random.randint (1,60)\n",
    "x = 1\n",
    "\n",
    "while x <= 6 :\n",
    "     nmg = random.randint (1,60)\n",
    "     print (f' Número da mega-sena: {nmg}')\n",
    "     x = x + 1\n",
    "\n",
    "\n"
   ]
  },
  {
   "cell_type": "markdown",
   "metadata": {},
   "source": [
    "⭐🎀 Receba alguns número e verifique a soma e a quantidade de todos os pares e ímpares digitados, digite 0 para não receber mais"
   ]
  },
  {
   "cell_type": "code",
   "execution_count": 19,
   "metadata": {},
   "outputs": [
    {
     "name": "stdout",
     "output_type": "stream",
     "text": [
      "A quantidade de números ímpares é de: 1\n",
      "A quantidade de números pares é de: 1\n",
      "A soma atualizada é de: 9.0\n"
     ]
    }
   ],
   "source": [
    "# ------------------------\n",
    "\n",
    "soma = 0\n",
    "qntpar = 0\n",
    "qntimpar = 0\n",
    "\n",
    "while True : \n",
    "    valor = float (input ('Digite os números (0 para encerrar)')) \n",
    "    if valor == 0 :\n",
    "        break\n",
    "    elif valor % 2 == 0 :\n",
    "        qntpar = qntpar + 1  # Para facilitar : x += 1\n",
    "    else :\n",
    "        qntimpar = qntimpar + 1\n",
    "\n",
    "    soma = valor + soma \n",
    "print (f'A quantidade de números ímpares é de: {qntimpar}')\n",
    "print (f'A quantidade de números pares é de: {qntpar}')\n",
    "print (f'A soma atualizada é de: {soma}')\n",
    "\n",
    "        "
   ]
  },
  {
   "cell_type": "markdown",
   "metadata": {},
   "source": [
    "⭐🎀 Faça um programa em Python que leia 5 valores inteiros e:                                                                                    \n",
    "• Encontre e mostre o maior valor                                                                                                                \n",
    "• Encontre e mostre o menor valor                                                                                                                \n",
    "• Calcule e mostre a média dos números lidos"
   ]
  },
  {
   "cell_type": "code",
   "execution_count": 14,
   "metadata": {},
   "outputs": [
    {
     "name": "stdout",
     "output_type": "stream",
     "text": [
      "Número digitado: 2\n",
      "Número digitado: 2\n",
      "Número digitado: 2\n",
      "Número digitado: 2\n",
      "Número digitado: 2\n"
     ]
    },
    {
     "ename": "TypeError",
     "evalue": "can only concatenate str (not \"int\") to str",
     "output_type": "error",
     "traceback": [
      "\u001b[1;31m---------------------------------------------------------------------------\u001b[0m",
      "\u001b[1;31mTypeError\u001b[0m                                 Traceback (most recent call last)",
      "Cell \u001b[1;32mIn[14], line 7\u001b[0m\n\u001b[0;32m      4\u001b[0m     nr \u001b[38;5;241m=\u001b[39m \u001b[38;5;28minput\u001b[39m (\u001b[38;5;124m\"\u001b[39m\u001b[38;5;124mDigite 5 números inteiros\u001b[39m\u001b[38;5;124m\"\u001b[39m)\n\u001b[0;32m      5\u001b[0m     \u001b[38;5;28mprint\u001b[39m (\u001b[38;5;124mf\u001b[39m\u001b[38;5;124m'\u001b[39m\u001b[38;5;124mNúmero digitado: \u001b[39m\u001b[38;5;132;01m{\u001b[39;00mnr\u001b[38;5;132;01m}\u001b[39;00m\u001b[38;5;124m'\u001b[39m)\n\u001b[1;32m----> 7\u001b[0m soma1 \u001b[38;5;241m=\u001b[39m \u001b[43mnr\u001b[49m\u001b[43m \u001b[49m\u001b[38;5;241;43m+\u001b[39;49m\u001b[43m \u001b[49m\u001b[38;5;241;43m0\u001b[39;49m\n\u001b[0;32m      8\u001b[0m \u001b[38;5;28mprint\u001b[39m (soma1)\n",
      "\u001b[1;31mTypeError\u001b[0m: can only concatenate str (not \"int\") to str"
     ]
    }
   ],
   "source": [
    "\n",
    "for nr in range (5) :\n",
    "    nr = input (\"Digite 5 números inteiros\")\n",
    "    print (f'Número digitado: {nr}')\n"
   ]
  },
  {
   "cell_type": "markdown",
   "metadata": {},
   "source": [
    "==================================== Teste com o novo código: FOR ===================================="
   ]
  },
  {
   "cell_type": "code",
   "execution_count": 6,
   "metadata": {},
   "outputs": [
    {
     "name": "stdout",
     "output_type": "stream",
     "text": [
      "5\n",
      "2\n",
      "2\n",
      "2\n",
      "2\n"
     ]
    }
   ],
   "source": [
    "# x = 1 \n",
    "# while x <= 20 :\n",
    "#      print (x)\n",
    "#      x = x + 1\n",
    "# print ('FIM')\n",
    "\n",
    "for x in range (5) :\n",
    "    x = input (\"Digite\")\n",
    "    print (x)"
   ]
  },
  {
   "cell_type": "code",
   "execution_count": 15,
   "metadata": {},
   "outputs": [
    {
     "name": "stdout",
     "output_type": "stream",
     "text": [
      "Entregando os notebooks\n",
      " Pegar o notebook 1\n",
      " Pegar o mouse 1\n",
      " Levar o notebook até o(a) 24\n",
      " Pegar o notebook 2\n",
      " Pegar o mouse 2\n",
      " Levar o notebook até o(a) 2\n",
      " Não pegar o notebook 3\n"
     ]
    }
   ],
   "source": [
    "print ('Entregando os notebooks')\n",
    "\n",
    "for nr in range (32) :\n",
    "    nr = nr + 1\n",
    "    nome = input (f' Quem é o nº {nr}?')\n",
    "    presente = input (f' O (a) {nome} veio para a escola? [S/N]')\n",
    "    if presente ==  \"S\" :\n",
    "        print (f' Pegar o notebook {nr}')\n",
    "        print (f' Pegar o mouse {nr}')\n",
    "        print (f' Levar o notebook até o(a) {nome}')\n",
    "    else :\n",
    "        print (f' Não pegar o notebook {nr}')\n",
    "\n",
    "print ('Começar a aula')"
   ]
  },
  {
   "cell_type": "code",
   "execution_count": 2,
   "metadata": {},
   "outputs": [
    {
     "name": "stdout",
     "output_type": "stream",
     "text": [
      "5\n",
      "7\n",
      "9\n"
     ]
    }
   ],
   "source": [
    "for x in range (2, 10) :\n",
    "    print (x)"
   ]
  },
  {
   "cell_type": "code",
   "execution_count": 13,
   "metadata": {},
   "outputs": [
    {
     "name": "stdout",
     "output_type": "stream",
     "text": [
      "Tabuada do 5:\n",
      " 5 x 0 = 0\n",
      " 5 x 1 = 5\n",
      " 5 x 2 = 10\n",
      " 5 x 3 = 15\n",
      " 5 x 4 = 20\n",
      " 5 x 5 = 25\n",
      " 5 x 6 = 30\n",
      " 5 x 7 = 35\n",
      " 5 x 8 = 40\n",
      " 5 x 9 = 45\n",
      " 5 x 10 = 50\n"
     ]
    }
   ],
   "source": [
    "nr = int (input ('Qual número você quer saber a tabuada?'))\n",
    "\n",
    "print (f'Tabuada do {n}:')\n",
    "for x in range (11) :\n",
    "    print (f' {n} x {x} = {nr * x}')"
   ]
  },
  {
   "cell_type": "markdown",
   "metadata": {},
   "source": [
    "============================================ ATIVIDADES ============================================="
   ]
  },
  {
   "cell_type": "markdown",
   "metadata": {},
   "source": [
    "1 - Utilizando o comando FOR, exiba todos os números ímpares, de 1 a 40."
   ]
  },
  {
   "cell_type": "code",
   "execution_count": 15,
   "metadata": {},
   "outputs": [
    {
     "name": "stdout",
     "output_type": "stream",
     "text": [
      " O número 1 é par!\n",
      " O número 3 é par!\n",
      " O número 5 é par!\n",
      " O número 7 é par!\n",
      " O número 9 é par!\n",
      " O número 11 é par!\n",
      " O número 13 é par!\n",
      " O número 15 é par!\n",
      " O número 17 é par!\n",
      " O número 19 é par!\n",
      " O número 21 é par!\n",
      " O número 23 é par!\n",
      " O número 25 é par!\n",
      " O número 27 é par!\n",
      " O número 29 é par!\n",
      " O número 31 é par!\n",
      " O número 33 é par!\n",
      " O número 35 é par!\n",
      " O número 37 é par!\n",
      " O número 39 é par!\n"
     ]
    }
   ],
   "source": [
    "for x in range (1, 40) :\n",
    "    if x % 2 == 1 :\n",
    "        print (f' O número {x} é par!')"
   ]
  },
  {
   "cell_type": "markdown",
   "metadata": {},
   "source": [
    "2 - Gere os 6 números do sorteio da mega-sena de forma aleatória."
   ]
  },
  {
   "cell_type": "code",
   "execution_count": 22,
   "metadata": {},
   "outputs": [
    {
     "name": "stdout",
     "output_type": "stream",
     "text": [
      "O número da megasena é: 54\n",
      "O número da megasena é: 42\n",
      "O número da megasena é: 29\n",
      "O número da megasena é: 12\n",
      "O número da megasena é: 7\n",
      "O número da megasena é: 36\n"
     ]
    }
   ],
   "source": [
    "import random \n",
    "for x in range (6) :\n",
    "    x = random.randint (1,60)\n",
    "    print (f'O número da megasena é: {x}')"
   ]
  },
  {
   "cell_type": "markdown",
   "metadata": {},
   "source": [
    "3 - Receba 5 números e verifique a soma e a quantidade de todos os pares e ímpares digitados"
   ]
  },
  {
   "cell_type": "code",
   "execution_count": 15,
   "metadata": {},
   "outputs": [
    {
     "name": "stdout",
     "output_type": "stream",
     "text": [
      "Número digitado: 5.0\n",
      "Número digitado: 5.0\n",
      "Número digitado: 5.0\n",
      "Número digitado: 5.0\n",
      "Número digitado: 5.0\n",
      "A soma desses números são de: 5.0\n",
      "A quantidade de números pares é de: 0\n",
      "A quantidade de números ímpares é de: 5\n"
     ]
    }
   ],
   "source": [
    "qntpar = 0\n",
    "qntimpar = 0\n",
    "soma = 0\n",
    "\n",
    "for _ in range(5):\n",
    "    nr = float(input(\"Digite um número: \"))\n",
    "    print(f\"Número digitado: {nr}\")\n",
    "    if nr % 2 == 0:\n",
    "        qntpar += 1\n",
    "    else:\n",
    "        qntimpar += 1\n",
    "    soma += nr\n",
    "\n",
    "print(f'A soma desses números é: {soma}')\n",
    "print(f\"A quantidade de números pares é: {qntpar}\")\n",
    "print(f'A quantidade de números ímpares é: {qntimpar}')\n",
    "\n",
    "    "
   ]
  },
  {
   "cell_type": "markdown",
   "metadata": {},
   "source": [
    "4 - Solicite os parâmetros de início, fim e passo para o laço de repetição usando a função range() e exiba o valor atual da variável de controle a cada iteração. range( x , y , z )"
   ]
  },
  {
   "cell_type": "code",
   "execution_count": 4,
   "metadata": {},
   "outputs": [
    {
     "name": "stdout",
     "output_type": "stream",
     "text": [
      "10\n",
      "17\n",
      "24\n",
      "31\n",
      "38\n",
      "45\n",
      "52\n",
      "59\n",
      "66\n",
      "73\n",
      "80\n"
     ]
    }
   ],
   "source": [
    "inicio = int (input ('Digite o número de início'))\n",
    "fim = int (input ('Digite o número de fim'))\n",
    "passo = int (input ('Digite o número de passo'))\n",
    "\n",
    "for x in range (inicio,fim,passo) :\n",
    "    print (x)"
   ]
  },
  {
   "cell_type": "markdown",
   "metadata": {},
   "source": [
    "5 - Ler do teclado a idade e o sexo de 10 pessoas, calcule e imprima:                                                                                \n",
    "• idade média das mulheres                                                                                                                       \n",
    "• idade média dos homens                                                                                                                         \n",
    "• idade média do grupo"
   ]
  },
  {
   "cell_type": "code",
   "execution_count": 5,
   "metadata": {},
   "outputs": [
    {
     "name": "stdout",
     "output_type": "stream",
     "text": [
      "5\n"
     ]
    }
   ],
   "source": [
    "mediam = 0\n",
    "mediaf = 0\n",
    "soma = 0\n",
    "mulheres = 0\n",
    "homens = 0\n",
    "\n",
    "for x in range (1, 10) :\n",
    "    idade = input (f\"Qual a idade da pessoa {x}?\")\n",
    "    sexo = input (f'Qual é o sexo da pessoa {x}? [F para feminino e M para masculino]')\n",
    "    if sexo == \"F\" :\n",
    "        mediaf = mediaf + 1\n",
    "        mulheres = mulheres +  1\n",
    "    else :\n",
    "        mediam = mediam + 1      \n",
    "        homens = homens + 1  \n",
    "\n",
    "soma = mulheres + soma\n",
    "\n"
   ]
  },
  {
   "cell_type": "markdown",
   "metadata": {},
   "source": [
    "6 - Escreva um programa que mostre todos os números entre 5 e 100 que são divisíveis por 7. Os números obtidos devem ser impressos em sequência."
   ]
  },
  {
   "cell_type": "code",
   "execution_count": 14,
   "metadata": {},
   "outputs": [
    {
     "name": "stdout",
     "output_type": "stream",
     "text": [
      " O número 7 é divisível por 7\n",
      " O número 14 é divisível por 7\n",
      " O número 21 é divisível por 7\n",
      " O número 28 é divisível por 7\n",
      " O número 35 é divisível por 7\n",
      " O número 42 é divisível por 7\n",
      " O número 49 é divisível por 7\n",
      " O número 56 é divisível por 7\n",
      " O número 63 é divisível por 7\n",
      " O número 70 é divisível por 7\n",
      " O número 77 é divisível por 7\n",
      " O número 84 é divisível por 7\n",
      " O número 91 é divisível por 7\n",
      " O número 98 é divisível por 7\n"
     ]
    }
   ],
   "source": [
    "for x in range (5,100) :\n",
    "    if x % 7 == 0 :\n",
    "        print (f' O número {x} é divisível por 7')"
   ]
  },
  {
   "cell_type": "markdown",
   "metadata": {},
   "source": []
  }
 ],
 "metadata": {
  "kernelspec": {
   "display_name": "Python 3",
   "language": "python",
   "name": "python3"
  },
  "language_info": {
   "codemirror_mode": {
    "name": "ipython",
    "version": 3
   },
   "file_extension": ".py",
   "mimetype": "text/x-python",
   "name": "python",
   "nbconvert_exporter": "python",
   "pygments_lexer": "ipython3",
   "version": "3.12.3"
  }
 },
 "nbformat": 4,
 "nbformat_minor": 2
}
