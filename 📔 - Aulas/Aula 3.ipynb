{
 "cells": [
  {
   "cell_type": "markdown",
   "metadata": {},
   "source": [
    "୧ ‧₊˚ 💻 ⋅ ☆ Aula do dia: 01/03/2024\n",
    "\n",
    "-- Operadores Lógicos e Estrutura Condicional "
   ]
  },
  {
   "cell_type": "code",
   "execution_count": 2,
   "metadata": {},
   "outputs": [
    {
     "name": "stdout",
     "output_type": "stream",
     "text": [
      "False\n",
      "False\n",
      "True\n",
      "True\n"
     ]
    }
   ],
   "source": [
    "a = 2\n",
    "b = 3\n",
    "c = 5\n",
    "\n",
    "#        False       False\n",
    "print ( (a > 2) and (b < 2) )\n",
    "\n",
    "#        False       False\n",
    "print ( (a > b) or (b < 2))\n",
    "\n",
    "#        False       True\n",
    "print ( (a > 2) or (b < 5) )\n",
    "\n",
    "idade = 18\n",
    "\n",
    "#          False         True\n",
    "print ( idade > 18 or idade == 18 )\n",
    "\n",
    "#           idade >= 18 "
   ]
  },
  {
   "cell_type": "code",
   "execution_count": 23,
   "metadata": {},
   "outputs": [
    {
     "name": "stdout",
     "output_type": "stream",
     "text": [
      "O seu imc é 34722222222.22222 e você está com obesidade!\n"
     ]
    }
   ],
   "source": [
    "altura = float (input (\"Digite sua altura:\"))\n",
    "peso = float (input (\"Digite seu peso\"))\n",
    "imc = peso / (altura ** 2)\n",
    "\n",
    "if imc < 18.5 :\n",
    "    print (f'O seu imc é {imc} e você está abaixo do peso!')\n",
    "\n",
    "elif (imc >= 18.9) and (imc < 24.9) :\n",
    "    print (f'O seu imc é {imc} e você está com o peso ideal!')\n",
    "\n",
    "elif imc >= 25 and imc <= 29.9 :\n",
    "    print (f'O seu imc é {imc} e você está com sobrepeso!')\n",
    "\n",
    "else :\n",
    "    print (f'O seu imc é {imc} e você está com obesidade!')\n",
    "\n"
   ]
  },
  {
   "cell_type": "code",
   "execution_count": 40,
   "metadata": {},
   "outputs": [
    {
     "name": "stdout",
     "output_type": "stream",
     "text": [
      "Ele pode ser considerado um triângulo isósceles, pois tem apenas dois lados iguais\n"
     ]
    }
   ],
   "source": [
    "\n",
    "lado1 = float (input (\"Digite o lado 1 do triângulo\"))\n",
    "lado2 = float (input (\"Digite o lado 2 do triângulo\"))\n",
    "lado3 = float (input (\"Digite o lado 3 do triângulo\"))\n",
    "\n",
    "if lado1 == lado2 == lado3 :\n",
    "    print (\"Ele pode ser considerado um triângulo equilátero, pois tem os três lados iguais.\")\n",
    "\n",
    "elif (lado1 != lado2 == lado3) or (lado1 == lado2 != lado3) or (lado2 != lado3 == lado1):\n",
    "    print (\"Ele pode ser considerado um triângulo isósceles, pois tem apenas dois lados iguais\")\n",
    "\n",
    "else :\n",
    "    print (\"Ele pode ser considerado um triângulo escaleno, pois não possui nenhum lado igual.\")"
   ]
  },
  {
   "cell_type": "code",
   "execution_count": 48,
   "metadata": {},
   "outputs": [
    {
     "name": "stdout",
     "output_type": "stream",
     "text": [
      " A letra (  ) é uma é um número\n"
     ]
    }
   ],
   "source": [
    "letra = input (\"Digite uma letra:\")\n",
    "\n",
    "if letra == 'a' or letra == 'e'or letra == 'i' or letra == 'u' :\n",
    "    print (f' A letra ( {letra} ) é uma vogal')\n",
    "\n",
    "elif letra == '1' or '2' or '3' :\n",
    "    print (f' A letra ( {letra} ) é um número')\n",
    "else : \n",
    "    print (f' A letra ( {letra} ) é uma consoante')"
   ]
  }
 ],
 "metadata": {
  "kernelspec": {
   "display_name": "Python 3",
   "language": "python",
   "name": "python3"
  },
  "language_info": {
   "codemirror_mode": {
    "name": "ipython",
    "version": 3
   },
   "file_extension": ".py",
   "mimetype": "text/x-python",
   "name": "python",
   "nbconvert_exporter": "python",
   "pygments_lexer": "ipython3",
   "version": "3.12.2"
  }
 },
 "nbformat": 4,
 "nbformat_minor": 2
}
