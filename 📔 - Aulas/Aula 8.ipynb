{
 "cells": [
  {
   "cell_type": "markdown",
   "metadata": {},
   "source": [
    "                        💻👩‍💻 - Aula do dia 11/04/2024 : Funções "
   ]
  },
  {
   "cell_type": "code",
   "execution_count": 2,
   "metadata": {},
   "outputs": [
    {
     "name": "stdout",
     "output_type": "stream",
     "text": [
      "--------------------\n",
      "SESI / SENAI\n",
      "--------------------\n"
     ]
    }
   ],
   "source": [
    "print ('-'*20)\n",
    "print ('SESI / SENAI')\n",
    "print ('-' * 20)"
   ]
  },
  {
   "cell_type": "code",
   "execution_count": 7,
   "metadata": {},
   "outputs": [
    {
     "name": "stdout",
     "output_type": "stream",
     "text": [
      "--------------------\n",
      "SESI/SENAI\n",
      "--------------------\n"
     ]
    }
   ],
   "source": [
    "def Linha():\n",
    "    print ('-' *20)\n",
    "\n",
    "Linha()\n",
    "print ('SESI/SENAI')\n",
    "Linha ()"
   ]
  },
  {
   "cell_type": "code",
   "execution_count": 5,
   "metadata": {},
   "outputs": [
    {
     "name": "stdout",
     "output_type": "stream",
     "text": [
      " mariana  tenha um bom dia!\n",
      " mariaa tenha um bom dia!\n",
      " manriana tenha um bom dia!\n"
     ]
    }
   ],
   "source": [
    "def saudacao() :\n",
    "    nome= input ('Digite seu nome')\n",
    "    print (f' {nome} tenha um bom dia!')\n",
    "\n",
    "saudacao()\n",
    "saudacao()\n",
    "saudacao()"
   ]
  },
  {
   "cell_type": "code",
   "execution_count": 37,
   "metadata": {},
   "outputs": [
    {
     "name": "stdout",
     "output_type": "stream",
     "text": [
      "====================\n",
      "SESI\n",
      "====================\n",
      "====================\n",
      "SENAI\n",
      "====================\n",
      "====================\n",
      "ESCOLA\n",
      "====================\n"
     ]
    }
   ],
   "source": [
    "def linha() :\n",
    "    print ('=' * 20)\n",
    "\n",
    "def cabecalho (texto) :\n",
    "    linha()\n",
    "    print (texto)\n",
    "    linha()\n",
    "\n",
    "cabecalho('SESI')          # O valor que envio quando chamo a função é enviado para a variável declarada. \n",
    "cabecalho('SENAI')         # Podemos enviar quantas variáveis quiser separando-as por , \n",
    "cabecalho('ESCOLA')"
   ]
  },
  {
   "cell_type": "code",
   "execution_count": 39,
   "metadata": {},
   "outputs": [
    {
     "name": "stdout",
     "output_type": "stream",
     "text": [
      "13\n",
      "38\n",
      "36\n"
     ]
    }
   ],
   "source": [
    "def soma(n1,n2) :\n",
    "    res = n1 + n2\n",
    "    print (res)\n",
    "\n",
    "soma (5,8)\n",
    "soma (15,23)\n",
    "soma (17,19)\n"
   ]
  },
  {
   "cell_type": "code",
   "execution_count": 52,
   "metadata": {},
   "outputs": [
    {
     "name": "stdout",
     "output_type": "stream",
     "text": [
      "O número é par\n"
     ]
    }
   ],
   "source": [
    "def parimpar (n) :\n",
    "    if n % 2 == 0 :\n",
    "        print (f'O número é par')\n",
    "    else :\n",
    "        print (f'O número é ímpar')\n",
    "\n",
    "parimpar (2)\n",
    "    "
   ]
  },
  {
   "cell_type": "code",
   "execution_count": 54,
   "metadata": {},
   "outputs": [
    {
     "name": "stdout",
     "output_type": "stream",
     "text": [
      "9.0\n",
      "6.0\n"
     ]
    }
   ],
   "source": [
    "def media(n1, n2) :\n",
    "    res = (n1+n2) / 2 \n",
    "    return(res)\n",
    "\n",
    "# A variável resultado_media recebe o retorno da função 'media'\n",
    "resultado_media = media(10,8)\n",
    "print (resultado_media)\n",
    "print (media(10, 2))\n"
   ]
  },
  {
   "cell_type": "code",
   "execution_count": 91,
   "metadata": {},
   "outputs": [
    {
     "data": {
      "text/plain": [
       "'28 / 3 / 2008'"
      ]
     },
     "execution_count": 91,
     "metadata": {},
     "output_type": "execute_result"
    }
   ],
   "source": [
    "def FormatarData(d,m,a) :\n",
    "    data = (f'{d} / {m} / {a}')\n",
    "    return (data)\n",
    "\n",
    "FormatarData(28,3,2008)\n"
   ]
  },
  {
   "cell_type": "markdown",
   "metadata": {},
   "source": [
    "          ---> 12/04/2024  : Escolpo de variáveis (Variável local e global)"
   ]
  },
  {
   "cell_type": "code",
   "execution_count": null,
   "metadata": {},
   "outputs": [],
   "source": [
    "def nome_escola() :\n",
    "    escola = 'Sesi'\n",
    "    print (f'Valor dentro da função {escola}')\n",
    "\n",
    "escola = 'senai'\n",
    "print (f'Valor antes da função {escola}')\n",
    "nome_escola()\n",
    "print (f'Valor depois da função {escola}')"
   ]
  },
  {
   "cell_type": "code",
   "execution_count": 3,
   "metadata": {},
   "outputs": [
    {
     "name": "stdout",
     "output_type": "stream",
     "text": [
      "Valor antes da função SENAI\n"
     ]
    },
    {
     "ename": "TypeError",
     "evalue": "'str' object is not callable",
     "output_type": "error",
     "traceback": [
      "\u001b[1;31m---------------------------------------------------------------------------\u001b[0m",
      "\u001b[1;31mTypeError\u001b[0m                                 Traceback (most recent call last)",
      "Cell \u001b[1;32mIn[3], line 10\u001b[0m\n\u001b[0;32m      8\u001b[0m escola \u001b[38;5;241m=\u001b[39m \u001b[38;5;124m'\u001b[39m\u001b[38;5;124mSENAI\u001b[39m\u001b[38;5;124m'\u001b[39m\n\u001b[0;32m      9\u001b[0m \u001b[38;5;28mprint\u001b[39m (\u001b[38;5;124mf\u001b[39m\u001b[38;5;124m'\u001b[39m\u001b[38;5;124mValor antes da função \u001b[39m\u001b[38;5;132;01m{\u001b[39;00mescola\u001b[38;5;132;01m}\u001b[39;00m\u001b[38;5;124m'\u001b[39m)\n\u001b[1;32m---> 10\u001b[0m \u001b[43mescola\u001b[49m\u001b[43m(\u001b[49m\u001b[43m)\u001b[49m\n\u001b[0;32m     11\u001b[0m \u001b[38;5;28mprint\u001b[39m (\u001b[38;5;124mf\u001b[39m\u001b[38;5;124m'\u001b[39m\u001b[38;5;124mValor depois da função \u001b[39m\u001b[38;5;132;01m{\u001b[39;00mescola\u001b[38;5;132;01m}\u001b[39;00m\u001b[38;5;124m'\u001b[39m)\n\u001b[0;32m     13\u001b[0m x \u001b[38;5;241m=\u001b[39m \u001b[38;5;241m10\u001b[39m \u001b[38;5;66;03m# x é uma variável global \u001b[39;00m\n",
      "\u001b[1;31mTypeError\u001b[0m: 'str' object is not callable"
     ]
    }
   ],
   "source": [
    "def nomeescola():\n",
    "    # Caso eu queira atualizar o conteúdo da variável escola\n",
    "    # preciso escrever que ela é global\n",
    "    global escola \n",
    "    escola = 'SESI'       # Alterando o valor da variável \n",
    "    print (f'Valor dentro da função {escola}')\n",
    "\n",
    "escola = 'SENAI'\n",
    "print (f'Valor antes da função {escola}')\n",
    "escola()\n",
    "print (f'Valor depois da função {escola}')\n",
    "\n",
    "x = 10 # x é uma variável global \n",
    "# Podemos acessar x fora de uma função também\n",
    "print('Fora da função',x)\n",
    "\n",
    "def minha_funcao():\n",
    "    x = 0 # <- variável local\n",
    "    x = x + 1\n",
    "    print ('Dentro da função',x)\n",
    "\n",
    "minha_funcao()\n",
    "print ('fora da funcao',x)\n",
    "\n",
    "def minha_funcao():\n",
    "    '''\n",
    "      Aqui posso escrever a descrição do que faz minha função\n",
    "    '''\n",
    "    global x    # Dizendo que usaremos variável x global\n",
    "    x = x + 1\n",
    "    print ('Dentro da função',x)\n",
    "\n",
    "minha_funcao()\n",
    "print ('fora da funcao',x)"
   ]
  },
  {
   "cell_type": "code",
   "execution_count": 2,
   "metadata": {},
   "outputs": [],
   "source": [
    "def minha_funcao(nome : str, idade : int) -> str: \n",
    "    '''\n",
    "    Para usar o annotation colocamos : e o tipo da variável\n",
    "    Podemos fazer isso no retorno também colocando como -> \n",
    "    '''\n",
    "    print (' Modelo de annotation')\n",
    "    "
   ]
  }
 ],
 "metadata": {
  "kernelspec": {
   "display_name": "Python 3",
   "language": "python",
   "name": "python3"
  },
  "language_info": {
   "codemirror_mode": {
    "name": "ipython",
    "version": 3
   },
   "file_extension": ".py",
   "mimetype": "text/x-python",
   "name": "python",
   "nbconvert_exporter": "python",
   "pygments_lexer": "ipython3",
   "version": "3.12.3"
  }
 },
 "nbformat": 4,
 "nbformat_minor": 2
}
