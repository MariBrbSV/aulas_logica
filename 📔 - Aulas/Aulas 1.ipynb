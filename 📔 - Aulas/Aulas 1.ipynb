{
 "cells": [
  {
   "cell_type": "markdown",
   "metadata": {},
   "source": [
    "📕📚⏰ Aula 16/02 - Sexta-feira \n",
    "                                                  \n",
    "💻🖱⌨📱🔌: Comandos de saída / Tipos de dados / Operações Aritiméticas ( + - * / % **)  \n",
    "                                                                                                                                           \n",
    "• • • • • • • • • • • • • • • • • • • • • • • • • • • • • • ~ ʚĭɞ ~ • • • • • • • • • • • • • • • • • • • • • • • • • • • • • •\n",
    "\n"
   ]
  },
  {
   "cell_type": "code",
   "execution_count": null,
   "metadata": {},
   "outputs": [],
   "source": [
    "# Este é o meu primeiro código\n",
    "print(\"Olá Mundo!\")\n",
    "\n",
    "print(\"Meu primeiro código em Python. Usando aspas duplas\")\n",
    "print(\"Meu primeiro código em Python. Usando aspas duplas\")\n",
    "# Para duplicar uma linha pressionei shift + alt + seta pra baixo\n",
    "\n",
    "print( 123 ) #Estou exibindo um número inteiro, por isso, não preciso da \"\"\n",
    "print( 70.5 ) #Número float\n",
    "print( True ) #Campo lógico (Verdadeiro ou falso) (True or false)\n",
    "print( \"Sesi\" ) #Tipo string\n",
    "\n",
    "print( 8 + 6 )\n",
    "print('8' + '6')\n",
    "\n",
    "# Somando 2 números inteiros (o sinal de + para 2 números realiza a SOMA)\n",
    "print('8+6')\n",
    "# Porém se forem 2 strings (o sinal de + realiza a CONCATENAÇÃO)\n",
    "print('8' + '6')\n",
    "\n",
    "print ('string', 10, 70.5, False)\n",
    "# Posso imprimir várias informações ao mesmo tempo separando-as por vírgulas (,)\n",
    "\n",
    "print( 10 + 50 )  # + é o operador da SOMA (número inteiro ou decimal)\n",
    "print( 67 - 13 )  # - é o operador de SUBTRAÇÃO (número inteiro ou decimal)\n",
    "print( 4215242 * 514156416 )  # * é o operador de MULTIPLICAÇÃO \n",
    "print( 4857 / 3 )  # / é o operador da DIVISÃO\n",
    "print( 31 % 2 )  # % é o operador do RESTO DA DIVISÃO\n",
    "print(3 ** 3)  # ** é o operador de exponenciação 3\n",
    "\n",
    "print ((8 + 6 / 2)) # O parênteses define a maior ordem de precedência\n",
    "\n"
   ]
  },
  {
   "cell_type": "markdown",
   "metadata": {},
   "source": [
    "📕📚⏰ Aula 22/02 - Quinta-feira \n",
    "                                           \n",
    "💻🖱⌨📱🔌: Comandos de entrada (input) / Variáveis / Pseudocódigo \n",
    "                                                                                                                                           \n",
    "• • • • • • • • • • • • • • • • • • • • • • • • • • • • • • ~ ʚĭɞ ~ • • • • • • • • • • • • • • • • • • • • • • • • • • • • • •\n",
    "\n"
   ]
  },
  {
   "cell_type": "code",
   "execution_count": null,
   "metadata": {},
   "outputs": [],
   "source": [
    "# Declarando minha primeira variável\n",
    "# Lemos da seguinte forma:\n",
    "# Variável curso recebe (=) a string \"Desenvolvimento de Sistemas\"\n",
    "# Receba/Armazene o texto \"Desenvolvimento de Sistemas\"\n",
    "curso = \"Desenvolvimentos de Sistema\"\n",
    "# Exiba o valor armazenado\n",
    "print (\"Desevolvimento de Sistemas\")\n",
    "print (\"curso\")      # Para imprimir uma variável não se coloca entre \" \"\n",
    "print (curso)        # Jeito correto de utilizar uma variável\n",
    "print (curso , \"curso\")\n",
    "\n",
    "# Criando e atribuindo uma variável\n",
    "idade = 15\n",
    "temperatura = 25\n",
    "nome = \"Mari\"\n",
    "\n",
    "# Exiba o valor das 3 variáveis\n",
    "print ('Olá', nome, 'você tem', idade, \"hoje esta fazendo\", temperatura, \"ºC\")\n",
    "print (f'Olá {nome} , você tem {idade} e hoje está fazendo {temperatura} ºC')\n",
    "\n",
    "# Declarando variáveis lógicas\n",
    "chovendo = False\n",
    "dia = True\n",
    "\n",
    "# Nessa linha abaixo ocorrerá um erro pois não existe uma variável com o nome salário, então não consegue encontrar nada para exibir.\n",
    "# NameError: name 'salário' is not defined\n",
    "print (\"Salário\", nome)   \n",
    "\n",
    "# Declarando um constante, diferentemente da variável que posso alterar o valor na constante é permitido, declaramos com o nome todo em maiúscula.\n",
    "PI = 3.1415\n",
    "\n",
    "# Passo 1: Receber o nome da pessoa.\n",
    "# 💬 No input sempre recebemos uma string\n",
    "\n",
    "nome = input ('Qual o seu nome?')\n",
    "\n",
    "# Passo 2: Receber a idade da pessoa.\n",
    "# 💬 Posso converter essa string recebida do tipo inteiro\n",
    "\n",
    "idade = int (input ('Qual sua idade?'))\n",
    "\n",
    "# Passo 3: Receber o peso da pessoa.\n",
    "# 💬 Posso converter essa string recebida no tipo float\n",
    "\n",
    "peso = float (input ('Qual o seu peso?'))\n",
    "\n",
    "# Passo 4: Exibir o nome, idade e peso da pessoa.\n",
    "\n",
    "print (f'Seu nome é {nome}, sua idade é {idade} anos e você pesa {peso} kg!')\n",
    "\n",
    "# 𓆝 𓆟 𓆞 𓆝 𓆟 𓆝 𓆟 𓆞 𓆝 𓆟 𓆝 𓆟 𓆞 𓆝 𓆟 𓆝 𓆟 𓆞 𓆝 𓆟 𓆝 𓆟 𓆞 𓆝 𓆟 𓆝 𓆟 𓆞 𓆝 𓆟 𓆝 𓆟 𓆞 𓆝 𓆟 𓆝 𓆟 𓆞 𓆝 𓆟\n",
    "\n",
    "# Exibindo os tipos das variáveis\n",
    "# Tudo o que recebemos do input é do tipo string\n",
    "\n",
    "print (type(nome), type(idade), type(peso))\n"
   ]
  },
  {
   "cell_type": "markdown",
   "metadata": {},
   "source": [
    "📕📚⏰ Aula 23/02 - Sexta-feira \n",
    "                                           \n",
    "💻🖱⌨📱🔌: Operações com variáveis.\n",
    "                                                                                                                                           \n",
    "• • • • • • • • • • • • • • • • • • • • • • • • • • • • • • ~ ʚĭɞ ~ • • • • • • • • • • • • • • • • • • • • • • • • • • • • • •"
   ]
  },
  {
   "cell_type": "code",
   "execution_count": 16,
   "metadata": {},
   "outputs": [
    {
     "name": "stdout",
     "output_type": "stream",
     "text": [
      "760.0\n",
      "<class 'float'>\n"
     ]
    }
   ],
   "source": [
    "# Receber o primeiro número\n",
    "\n",
    "numero1 = int (input (\"Digite o primeiro número:\"))\n",
    "\n",
    "# Receber o segundo número\n",
    "\n",
    "numero2 = int (input (\"Digite o segundo número:\"))\n",
    "\n",
    "#Receber o terceiro número\n",
    "\n",
    "numero3 = float (input (\"Digite o terceiro número:\"))\n",
    "\n",
    "# ➕ Somar o primeiro número + o segundo número \n",
    "\n",
    "soma = (numero1 + numero2 + numero3)\n",
    "\n",
    "# Exibir o resultado\n",
    "\n",
    "print(soma)\n",
    "\n"
   ]
  },
  {
   "cell_type": "markdown",
   "metadata": {},
   "source": [
    "💻 - Atividade 1\n",
    "                                                                                                                                           \n",
    "• • • • • • • • • • • • • • • • • • • • • • • • • • • • • • ~ ʚĭɞ ~ • • • • • • • • • • • • • • • • • • • • • • • • • • • • • •"
   ]
  },
  {
   "cell_type": "code",
   "execution_count": 17,
   "metadata": {},
   "outputs": [
    {
     "name": "stdout",
     "output_type": "stream",
     "text": [
      "4000\n"
     ]
    }
   ],
   "source": [
    "# Recebe o primeiro número\n",
    "\n",
    "numero1 = int (input (\"Digite o primeiro número\"))\n",
    "\n",
    "# Recebe o segundo número\n",
    "               \n",
    "numero2 = int (input (\"Digite o segundo número\"))\n",
    "\n",
    "# Recebe o terceiro número\n",
    "\n",
    "numero3 = int (input (\"Digite o terceiro número\"))\n",
    "\n",
    "#Soma os três números\n",
    "\n",
    "soma = (numero1 * numero2 * numero3)\n",
    "\n",
    "# Exibir o resultado\n",
    "\n",
    "print (soma)"
   ]
  },
  {
   "cell_type": "markdown",
   "metadata": {},
   "source": [
    "💻 - Atividade 2\n",
    "                                                                                                                                           \n",
    "• • • • • • • • • • • • • • • • • • • • • • • • • • • • • • ~ ʚĭɞ ~ • • • • • • • • • • • • • • • • • • • • • • • • • • • • • •"
   ]
  },
  {
   "cell_type": "code",
   "execution_count": 27,
   "metadata": {},
   "outputs": [
    {
     "name": "stdout",
     "output_type": "stream",
     "text": [
      "30.0\n"
     ]
    }
   ],
   "source": [
    "# Passo 1 : Receber o preço do celular\n",
    "\n",
    "PrecoDoCelular = float (input (\"Qual o preço do celular?\"))\n",
    "\n",
    "# Passo 2 : Receber o valor desconto\n",
    "\n",
    "Desconto = float (input (\"Qual o valor do desconto?\"))\n",
    "\n",
    "# Passo 3 : Calcular o novo valor do celular\n",
    "\n",
    "print (PrecoDoCelular - Desconto)\n",
    "\n"
   ]
  },
  {
   "cell_type": "markdown",
   "metadata": {},
   "source": [
    "💻 - Atividade 3\n",
    "                                                                                                                                           \n",
    "• • • • • • • • • • • • • • • • • • • • • • • • • • • • • • ~ ʚĭɞ ~ • • • • • • • • • • • • • • • • • • • • • • • • • • • • • •"
   ]
  },
  {
   "cell_type": "code",
   "execution_count": null,
   "metadata": {},
   "outputs": [],
   "source": [
    "numero = 4 / 2\n",
    "\n",
    "print (numero)\n",
    "\n",
    "numero = numero ** 2 \n",
    "\n",
    "print (numero)\n",
    "\n",
    "numero = numero * ( 50 - 20 )\n",
    "\n",
    "print (numero)"
   ]
  },
  {
   "cell_type": "markdown",
   "metadata": {},
   "source": [
    "💻 - Atividade 4\n",
    "                                                                                                                                           \n",
    "• • • • • • • • • • • • • • • • • • • • • • • • • • • • • • ~ ʚĭɞ ~ • • • • • • • • • • • • • • • • • • • • • • • • • • • • • •"
   ]
  },
  {
   "cell_type": "code",
   "execution_count": 1,
   "metadata": {},
   "outputs": [
    {
     "name": "stdout",
     "output_type": "stream",
     "text": [
      "12000\n"
     ]
    }
   ],
   "source": [
    "# Horas de trabalho por dia\n",
    "\n",
    "horas_por_dia = 8\n",
    "\n",
    "# Dias que iremos trabalhar no projeto\n",
    "\n",
    "dias_do_proj = 15\n",
    "\n",
    "# Valor de 1 hora\n",
    "\n",
    "valor_uma_hora = 100\n",
    "\n",
    "# Exibir\n",
    "\n",
    "print (horas_por_dia * dias_do_proj * valor_uma_hora)"
   ]
  },
  {
   "cell_type": "code",
   "execution_count": 5,
   "metadata": {},
   "outputs": [
    {
     "name": "stdout",
     "output_type": "stream",
     "text": [
      "2000\n"
     ]
    }
   ],
   "source": [
    "# Horas de trabalho por dia (8 horas)\n",
    "\n",
    "horas_por_dia = int (input (\"Quantas horas você trabalha por dia?\"))\n",
    "\n",
    "# Dias que iremos trabalhar no projeto (15 dias)\n",
    "\n",
    "dias_do_proj = int (input (\"Quantos dias você vai trabalhar no projeto?\"))\n",
    "\n",
    "# Valor de 1 hora (R$ 100)\n",
    "\n",
    "valor_uma_hora = int (input (\"Qual o valor que você cobra por uma hora de trabalho?\"))\n",
    "\n",
    "# Exibir\n",
    "\n",
    "print (horas_por_dia * dias_do_proj * valor_uma_hora)\n"
   ]
  }
 ],
 "metadata": {
  "kernelspec": {
   "display_name": "Python 3",
   "language": "python",
   "name": "python3"
  },
  "language_info": {
   "codemirror_mode": {
    "name": "ipython",
    "version": 3
   },
   "file_extension": ".py",
   "mimetype": "text/x-python",
   "name": "python",
   "nbconvert_exporter": "python",
   "pygments_lexer": "ipython3",
   "version": "3.12.2"
  }
 },
 "nbformat": 4,
 "nbformat_minor": 2
}
