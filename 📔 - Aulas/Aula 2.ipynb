{
 "cells": [
  {
   "cell_type": "markdown",
   "metadata": {},
   "source": [
    "୧ ‧₊˚ 💻 ⋅ ☆ Aula do dia: 29/02/2024\n",
    "\n",
    "-- Operadores relacionais e estrutura condicional"
   ]
  },
  {
   "cell_type": "code",
   "execution_count": 9,
   "metadata": {},
   "outputs": [
    {
     "name": "stdout",
     "output_type": "stream",
     "text": [
      "a > b ? False \n",
      "a < b ? True \n",
      "a == b ? False\n",
      "a != b ? True\n",
      "a >= b ? False\n",
      "a <= b ? True\n"
     ]
    }
   ],
   "source": [
    "a = 2 \n",
    "\n",
    "b = 3\n",
    "\n",
    "# ( > ) - Maior que\n",
    "print (f'a > b ? {a > b} ') \n",
    "\n",
    "# ( < ) - Menor que\n",
    "print (f'a < b ? {a < b} ') \n",
    "\n",
    "# ( == ) - Igualdade\n",
    "print (f'a == b ? {a == b}')\n",
    "\n",
    "# ( != ) Diferente\n",
    "print (f'a != b ? {a != b}')\n",
    "\n",
    "# ( >= ) Maior ou igual \n",
    "print (f'a >= b ? {a >= b}')\n",
    "\n",
    "# ( <= ) Menor ou igual \n",
    "print (f'a <= b ? {a <= b}')"
   ]
  },
  {
   "cell_type": "code",
   "execution_count": 46,
   "metadata": {},
   "outputs": [
    {
     "name": "stdout",
     "output_type": "stream",
     "text": [
      "Posso entrar\n",
      "Fim\n"
     ]
    }
   ],
   "source": [
    "tenho_ingresso = True  \n",
    "if tenho_ingresso == True : \n",
    "    print ('Posso entrar')\n",
    "else :\n",
    "    print ('Vá comprar')\n",
    "\n",
    "print ('Fim') "
   ]
  },
  {
   "cell_type": "code",
   "execution_count": 36,
   "metadata": {},
   "outputs": [
    {
     "name": "stdout",
     "output_type": "stream",
     "text": [
      "Menor idade\n"
     ]
    }
   ],
   "source": [
    "# Receber o valor da idade \n",
    "\n",
    "idade = int (input (\"Digite a idade\"))\n",
    "\n",
    "# Verificar se é maior ou igual que 18, então \n",
    "\n",
    "if idade >= 18 : \n",
    "\n",
    "# Exibir \n",
    "    print ('Maior idade') \n",
    "\n",
    "else:\n",
    "    print ('Menor idade')  \n"
   ]
  }
 ],
 "metadata": {
  "kernelspec": {
   "display_name": "Python 3",
   "language": "python",
   "name": "python3"
  },
  "language_info": {
   "codemirror_mode": {
    "name": "ipython",
    "version": 3
   },
   "file_extension": ".py",
   "mimetype": "text/x-python",
   "name": "python",
   "nbconvert_exporter": "python",
   "pygments_lexer": "ipython3",
   "version": "3.12.2"
  }
 },
 "nbformat": 4,
 "nbformat_minor": 2
}
